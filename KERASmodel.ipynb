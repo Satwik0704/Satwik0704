{
  "nbformat": 4,
  "nbformat_minor": 0,
  "metadata": {
    "colab": {
      "name": "KERASmodel.ipynb",
      "provenance": [],
      "collapsed_sections": [],
      "authorship_tag": "ABX9TyMC1mVtP4jZbqt9G0p4pgvB",
      "include_colab_link": true
    },
    "kernelspec": {
      "name": "python3",
      "display_name": "Python 3"
    },
    "language_info": {
      "name": "python"
    }
  },
  "cells": [
    {
      "cell_type": "markdown",
      "metadata": {
        "id": "view-in-github",
        "colab_type": "text"
      },
      "source": [
        "<a href=\"https://colab.research.google.com/github/Satwik0704/Satwik0704/blob/main/KERASmodel.ipynb\" target=\"_parent\"><img src=\"https://colab.research.google.com/assets/colab-badge.svg\" alt=\"Open In Colab\"/></a>"
      ]
    },
    {
      "cell_type": "markdown",
      "metadata": {
        "id": "FOkXaPimdA1C"
      },
      "source": [
        "Importing dictionaries required"
      ]
    },
    {
      "cell_type": "code",
      "metadata": {
        "id": "Ikceb_-Xcu_-"
      },
      "source": [
        "import numpy as np\n",
        "from tensorflow import keras\n",
        "from tensorflow.keras import layers"
      ],
      "execution_count": null,
      "outputs": []
    },
    {
      "cell_type": "markdown",
      "metadata": {
        "id": "_QzDGPYNdKjX"
      },
      "source": [
        "Data clearing"
      ]
    },
    {
      "cell_type": "code",
      "metadata": {
        "colab": {
          "base_uri": "https://localhost:8080/"
        },
        "id": "WwN3aS-zdPB_",
        "outputId": "0bad4693-580f-4198-ee44-452edc28b2b7"
      },
      "source": [
        "# Model / data parameters\n",
        "num_classes = 10\n",
        "input_shape = (28, 28, 1)\n",
        "\n",
        "# the data, split between train and test sets\n",
        "(x_train, y_train), (x_test, y_test) = keras.datasets.mnist.load_data()\n",
        "\n",
        "# Scale images to the [0, 1] range\n",
        "x_train = x_train.astype(\"float32\") / 255\n",
        "x_test = x_test.astype(\"float32\") / 255\n",
        "# Make sure images have shape (28, 28, 1)\n",
        "x_train = np.expand_dims(x_train, -1)\n",
        "x_test = np.expand_dims(x_test, -1)\n",
        "print(\"x_train shape:\", x_train.shape)\n",
        "print(x_train.shape[0], \"train samples\")\n",
        "print(x_test.shape[0], \"test samples\")\n",
        "\n",
        "\n",
        "# convert class vectors to binary class matrices\n",
        "y_train = keras.utils.to_categorical(y_train, num_classes)\n",
        "y_test = keras.utils.to_categorical(y_test, num_classes)\n"
      ],
      "execution_count": null,
      "outputs": [
        {
          "output_type": "stream",
          "text": [
            "Downloading data from https://storage.googleapis.com/tensorflow/tf-keras-datasets/mnist.npz\n",
            "11493376/11490434 [==============================] - 0s 0us/step\n",
            "x_train shape: (60000, 28, 28, 1)\n",
            "60000 train samples\n",
            "10000 test samples\n"
          ],
          "name": "stdout"
        }
      ]
    },
    {
      "cell_type": "markdown",
      "metadata": {
        "id": "MMrFjEyCdZUc"
      },
      "source": [
        "Code for Building the model"
      ]
    },
    {
      "cell_type": "code",
      "metadata": {
        "colab": {
          "base_uri": "https://localhost:8080/"
        },
        "id": "qJPA_4R-dfX-",
        "outputId": "63e43f13-56ff-4451-f1d8-73527afbbf67"
      },
      "source": [
        "model = keras.Sequential(\n",
        "    [\n",
        "        keras.Input(shape=input_shape),\n",
        "        layers.Conv2D(32, kernel_size=(3, 3), activation=\"relu\"),\n",
        "        layers.MaxPooling2D(pool_size=(2, 2)),\n",
        "        layers.Conv2D(64, kernel_size=(3, 3), activation=\"relu\"),\n",
        "        layers.MaxPooling2D(pool_size=(2, 2)),\n",
        "        layers.Flatten(),\n",
        "        layers.Dropout(0.5),\n",
        "        layers.Dense(num_classes, activation=\"softmax\"),\n",
        "    ]\n",
        ")\n",
        "\n",
        "model.summary()"
      ],
      "execution_count": null,
      "outputs": [
        {
          "output_type": "stream",
          "text": [
            "WARNING:tensorflow:Please add `keras.layers.InputLayer` instead of `keras.Input` to Sequential model. `keras.Input` is intended to be used by Functional model.\n",
            "Model: \"sequential\"\n",
            "_________________________________________________________________\n",
            "Layer (type)                 Output Shape              Param #   \n",
            "=================================================================\n",
            "conv2d (Conv2D)              (None, 26, 26, 32)        320       \n",
            "_________________________________________________________________\n",
            "max_pooling2d (MaxPooling2D) (None, 13, 13, 32)        0         \n",
            "_________________________________________________________________\n",
            "conv2d_1 (Conv2D)            (None, 11, 11, 64)        18496     \n",
            "_________________________________________________________________\n",
            "max_pooling2d_1 (MaxPooling2 (None, 5, 5, 64)          0         \n",
            "_________________________________________________________________\n",
            "flatten (Flatten)            (None, 1600)              0         \n",
            "_________________________________________________________________\n",
            "dropout (Dropout)            (None, 1600)              0         \n",
            "_________________________________________________________________\n",
            "dense (Dense)                (None, 10)                16010     \n",
            "=================================================================\n",
            "Total params: 34,826\n",
            "Trainable params: 34,826\n",
            "Non-trainable params: 0\n",
            "_________________________________________________________________\n"
          ],
          "name": "stdout"
        }
      ]
    },
    {
      "cell_type": "markdown",
      "metadata": {
        "id": "gUzMNwX2djPC"
      },
      "source": [
        "Code for Training the model"
      ]
    },
    {
      "cell_type": "code",
      "metadata": {
        "colab": {
          "base_uri": "https://localhost:8080/"
        },
        "id": "PhJx-Bu6dm7N",
        "outputId": "1616e3c2-9b2a-4f57-bd38-2c695d2ee4ce"
      },
      "source": [
        "batch_size = 128\n",
        "epochs = 15\n",
        "\n",
        "model.compile(loss=\"categorical_crossentropy\", optimizer=\"adam\", metrics=[\"accuracy\"])\n",
        "\n",
        "model.fit(x_train, y_train, batch_size=batch_size, epochs=epochs, validation_split=0.1)"
      ],
      "execution_count": null,
      "outputs": [
        {
          "output_type": "stream",
          "text": [
            "Epoch 1/15\n",
            "422/422 [==============================] - 44s 102ms/step - loss: 0.3746 - accuracy: 0.8860 - val_loss: 0.0841 - val_accuracy: 0.9752\n",
            "Epoch 2/15\n",
            "422/422 [==============================] - 43s 101ms/step - loss: 0.1163 - accuracy: 0.9647 - val_loss: 0.0615 - val_accuracy: 0.9818\n",
            "Epoch 3/15\n",
            "422/422 [==============================] - 43s 101ms/step - loss: 0.0853 - accuracy: 0.9739 - val_loss: 0.0474 - val_accuracy: 0.9872\n",
            "Epoch 4/15\n",
            "422/422 [==============================] - 42s 101ms/step - loss: 0.0721 - accuracy: 0.9772 - val_loss: 0.0429 - val_accuracy: 0.9887\n",
            "Epoch 5/15\n",
            "422/422 [==============================] - 43s 101ms/step - loss: 0.0636 - accuracy: 0.9799 - val_loss: 0.0399 - val_accuracy: 0.9888\n",
            "Epoch 6/15\n",
            "422/422 [==============================] - 43s 101ms/step - loss: 0.0571 - accuracy: 0.9821 - val_loss: 0.0348 - val_accuracy: 0.9908\n",
            "Epoch 7/15\n",
            "422/422 [==============================] - 43s 101ms/step - loss: 0.0520 - accuracy: 0.9835 - val_loss: 0.0358 - val_accuracy: 0.9903\n",
            "Epoch 8/15\n",
            "422/422 [==============================] - 43s 101ms/step - loss: 0.0492 - accuracy: 0.9851 - val_loss: 0.0328 - val_accuracy: 0.9923\n",
            "Epoch 9/15\n",
            "422/422 [==============================] - 43s 101ms/step - loss: 0.0473 - accuracy: 0.9847 - val_loss: 0.0344 - val_accuracy: 0.9903\n",
            "Epoch 10/15\n",
            "422/422 [==============================] - 43s 101ms/step - loss: 0.0450 - accuracy: 0.9858 - val_loss: 0.0294 - val_accuracy: 0.9922\n",
            "Epoch 11/15\n",
            "422/422 [==============================] - 43s 102ms/step - loss: 0.0405 - accuracy: 0.9870 - val_loss: 0.0305 - val_accuracy: 0.9915\n",
            "Epoch 12/15\n",
            "422/422 [==============================] - 44s 103ms/step - loss: 0.0415 - accuracy: 0.9869 - val_loss: 0.0291 - val_accuracy: 0.9923\n",
            "Epoch 13/15\n",
            "422/422 [==============================] - 43s 102ms/step - loss: 0.0378 - accuracy: 0.9879 - val_loss: 0.0291 - val_accuracy: 0.9923\n",
            "Epoch 14/15\n",
            "422/422 [==============================] - 43s 102ms/step - loss: 0.0371 - accuracy: 0.9875 - val_loss: 0.0286 - val_accuracy: 0.9917\n",
            "Epoch 15/15\n",
            "422/422 [==============================] - 43s 103ms/step - loss: 0.0340 - accuracy: 0.9890 - val_loss: 0.0302 - val_accuracy: 0.9920\n"
          ],
          "name": "stdout"
        },
        {
          "output_type": "execute_result",
          "data": {
            "text/plain": [
              "<tensorflow.python.keras.callbacks.History at 0x7efef2b624d0>"
            ]
          },
          "metadata": {
            "tags": []
          },
          "execution_count": 4
        }
      ]
    },
    {
      "cell_type": "markdown",
      "metadata": {
        "id": "t_bDFCZHdtGs"
      },
      "source": [
        "Testing the model"
      ]
    },
    {
      "cell_type": "code",
      "metadata": {
        "colab": {
          "base_uri": "https://localhost:8080/"
        },
        "id": "zcAt5Omcduk9",
        "outputId": "376e0c9f-240f-4e7e-8656-5a7cb46beb7c"
      },
      "source": [
        "score = model.evaluate(x_test, y_test, verbose=0)\n",
        "print(\"Test loss:\", score[0])\n",
        "print(\"Test accuracy:\", score[1])"
      ],
      "execution_count": null,
      "outputs": [
        {
          "output_type": "stream",
          "text": [
            "Test loss: 0.023871704936027527\n",
            "Test accuracy: 0.9914000034332275\n"
          ],
          "name": "stdout"
        }
      ]
    }
  ]
}