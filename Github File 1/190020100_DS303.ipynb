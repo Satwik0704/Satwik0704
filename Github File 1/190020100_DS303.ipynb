{
  "nbformat": 4,
  "nbformat_minor": 0,
  "metadata": {
    "colab": {
      "name": "DS303_Assignment1 (1).ipynb",
      "provenance": [],
      "collapsed_sections": []
    },
    "kernelspec": {
      "name": "python3",
      "display_name": "Python 3"
    }
  },
  "cells": [
    {
      "cell_type": "markdown",
      "metadata": {
        "id": "fVOyu2dnQlSC"
      },
      "source": [
        "PART 1"
      ]
    },
    {
      "cell_type": "code",
      "metadata": {
        "id": "j9wm8kUdF-MZ"
      },
      "source": [
        "import pandas as pd\n",
        "import numpy as np\n",
        "from sklearn import preprocessing\n",
        "from sklearn.tree import DecisionTreeClassifier\n",
        "from sklearn.metrics import accuracy_score, f1_score, confusion_matrix,ConfusionMatrixDisplay\n",
        "import matplotlib.pyplot as plt \n",
        "plt.rc(\"font\", size=16)\n",
        "from sklearn.linear_model import LogisticRegression\n",
        "from sklearn.model_selection import train_test_split\n",
        "import seaborn as sns\n",
        "sns.set(style=\"white\")\n",
        "sns.set(style=\"whitegrid\", color_codes=True)\n",
        "from sklearn.metrics import classification_report, confusion_matrix, ConfusionMatrixDisplay, roc_curve, roc_auc_score, precision_recall_curve"
      ],
      "execution_count": 23,
      "outputs": []
    },
    {
      "cell_type": "code",
      "metadata": {
        "colab": {
          "base_uri": "https://localhost:8080/"
        },
        "id": "R58dfC5GGAL0",
        "outputId": "909754c1-a015-4a4d-86ee-573e4a538fe8"
      },
      "source": [
        "data = pd.read_csv('FlightDelays.csv', header = 0)\n",
        "data = data.dropna()\n",
        "print(data.shape)\n",
        "print( list (data.columns))"
      ],
      "execution_count": 39,
      "outputs": [
        {
          "output_type": "stream",
          "text": [
            "(2201, 13)\n",
            "['CRS_DEP_TIME', 'CARRIER', 'DEP_TIME', 'DEST', 'DISTANCE', 'FL_DATE', 'FL_NUM', 'ORIGIN', 'Weather', 'DAY_WEEK', 'DAY_OF_MONTH', 'TAIL_NUM', 'Flight_Status']\n"
          ],
          "name": "stdout"
        }
      ]
    },
    {
      "cell_type": "code",
      "metadata": {
        "colab": {
          "base_uri": "https://localhost:8080/",
          "height": 548
        },
        "id": "kboU3SkSG4PR",
        "outputId": "5a678fa7-2d3a-4d2d-c873-f87a3cb5bca8"
      },
      "source": [
        "data.head(10)"
      ],
      "execution_count": 40,
      "outputs": [
        {
          "output_type": "execute_result",
          "data": {
            "text/html": [
              "<div>\n",
              "<style scoped>\n",
              "    .dataframe tbody tr th:only-of-type {\n",
              "        vertical-align: middle;\n",
              "    }\n",
              "\n",
              "    .dataframe tbody tr th {\n",
              "        vertical-align: top;\n",
              "    }\n",
              "\n",
              "    .dataframe thead th {\n",
              "        text-align: right;\n",
              "    }\n",
              "</style>\n",
              "<table border=\"1\" class=\"dataframe\">\n",
              "  <thead>\n",
              "    <tr style=\"text-align: right;\">\n",
              "      <th></th>\n",
              "      <th>CRS_DEP_TIME</th>\n",
              "      <th>CARRIER</th>\n",
              "      <th>DEP_TIME</th>\n",
              "      <th>DEST</th>\n",
              "      <th>DISTANCE</th>\n",
              "      <th>FL_DATE</th>\n",
              "      <th>FL_NUM</th>\n",
              "      <th>ORIGIN</th>\n",
              "      <th>Weather</th>\n",
              "      <th>DAY_WEEK</th>\n",
              "      <th>DAY_OF_MONTH</th>\n",
              "      <th>TAIL_NUM</th>\n",
              "      <th>Flight_Status</th>\n",
              "    </tr>\n",
              "  </thead>\n",
              "  <tbody>\n",
              "    <tr>\n",
              "      <th>0</th>\n",
              "      <td>1455</td>\n",
              "      <td>OH</td>\n",
              "      <td>1455</td>\n",
              "      <td>JFK</td>\n",
              "      <td>184</td>\n",
              "      <td>01-01-2004</td>\n",
              "      <td>5935</td>\n",
              "      <td>BWI</td>\n",
              "      <td>0</td>\n",
              "      <td>4</td>\n",
              "      <td>1</td>\n",
              "      <td>N940CA</td>\n",
              "      <td>ontime</td>\n",
              "    </tr>\n",
              "    <tr>\n",
              "      <th>1</th>\n",
              "      <td>1640</td>\n",
              "      <td>DH</td>\n",
              "      <td>1640</td>\n",
              "      <td>JFK</td>\n",
              "      <td>213</td>\n",
              "      <td>01-01-2004</td>\n",
              "      <td>6155</td>\n",
              "      <td>DCA</td>\n",
              "      <td>0</td>\n",
              "      <td>4</td>\n",
              "      <td>1</td>\n",
              "      <td>N405FJ</td>\n",
              "      <td>ontime</td>\n",
              "    </tr>\n",
              "    <tr>\n",
              "      <th>2</th>\n",
              "      <td>1245</td>\n",
              "      <td>DH</td>\n",
              "      <td>1245</td>\n",
              "      <td>LGA</td>\n",
              "      <td>229</td>\n",
              "      <td>01-01-2004</td>\n",
              "      <td>7208</td>\n",
              "      <td>IAD</td>\n",
              "      <td>0</td>\n",
              "      <td>4</td>\n",
              "      <td>1</td>\n",
              "      <td>N695BR</td>\n",
              "      <td>ontime</td>\n",
              "    </tr>\n",
              "    <tr>\n",
              "      <th>3</th>\n",
              "      <td>1715</td>\n",
              "      <td>DH</td>\n",
              "      <td>1709</td>\n",
              "      <td>LGA</td>\n",
              "      <td>229</td>\n",
              "      <td>01-01-2004</td>\n",
              "      <td>7215</td>\n",
              "      <td>IAD</td>\n",
              "      <td>0</td>\n",
              "      <td>4</td>\n",
              "      <td>1</td>\n",
              "      <td>N662BR</td>\n",
              "      <td>ontime</td>\n",
              "    </tr>\n",
              "    <tr>\n",
              "      <th>4</th>\n",
              "      <td>1039</td>\n",
              "      <td>DH</td>\n",
              "      <td>1035</td>\n",
              "      <td>LGA</td>\n",
              "      <td>229</td>\n",
              "      <td>01-01-2004</td>\n",
              "      <td>7792</td>\n",
              "      <td>IAD</td>\n",
              "      <td>0</td>\n",
              "      <td>4</td>\n",
              "      <td>1</td>\n",
              "      <td>N698BR</td>\n",
              "      <td>ontime</td>\n",
              "    </tr>\n",
              "    <tr>\n",
              "      <th>5</th>\n",
              "      <td>840</td>\n",
              "      <td>DH</td>\n",
              "      <td>839</td>\n",
              "      <td>JFK</td>\n",
              "      <td>228</td>\n",
              "      <td>01-01-2004</td>\n",
              "      <td>7800</td>\n",
              "      <td>IAD</td>\n",
              "      <td>0</td>\n",
              "      <td>4</td>\n",
              "      <td>1</td>\n",
              "      <td>N687BR</td>\n",
              "      <td>ontime</td>\n",
              "    </tr>\n",
              "    <tr>\n",
              "      <th>6</th>\n",
              "      <td>1240</td>\n",
              "      <td>DH</td>\n",
              "      <td>1243</td>\n",
              "      <td>JFK</td>\n",
              "      <td>228</td>\n",
              "      <td>01-01-2004</td>\n",
              "      <td>7806</td>\n",
              "      <td>IAD</td>\n",
              "      <td>0</td>\n",
              "      <td>4</td>\n",
              "      <td>1</td>\n",
              "      <td>N321UE</td>\n",
              "      <td>ontime</td>\n",
              "    </tr>\n",
              "    <tr>\n",
              "      <th>7</th>\n",
              "      <td>1645</td>\n",
              "      <td>DH</td>\n",
              "      <td>1644</td>\n",
              "      <td>JFK</td>\n",
              "      <td>228</td>\n",
              "      <td>01-01-2004</td>\n",
              "      <td>7810</td>\n",
              "      <td>IAD</td>\n",
              "      <td>0</td>\n",
              "      <td>4</td>\n",
              "      <td>1</td>\n",
              "      <td>N301UE</td>\n",
              "      <td>ontime</td>\n",
              "    </tr>\n",
              "    <tr>\n",
              "      <th>8</th>\n",
              "      <td>1715</td>\n",
              "      <td>DH</td>\n",
              "      <td>1710</td>\n",
              "      <td>JFK</td>\n",
              "      <td>228</td>\n",
              "      <td>01-01-2004</td>\n",
              "      <td>7812</td>\n",
              "      <td>IAD</td>\n",
              "      <td>0</td>\n",
              "      <td>4</td>\n",
              "      <td>1</td>\n",
              "      <td>N328UE</td>\n",
              "      <td>ontime</td>\n",
              "    </tr>\n",
              "    <tr>\n",
              "      <th>9</th>\n",
              "      <td>2120</td>\n",
              "      <td>DH</td>\n",
              "      <td>2129</td>\n",
              "      <td>JFK</td>\n",
              "      <td>228</td>\n",
              "      <td>01-01-2004</td>\n",
              "      <td>7814</td>\n",
              "      <td>IAD</td>\n",
              "      <td>0</td>\n",
              "      <td>4</td>\n",
              "      <td>1</td>\n",
              "      <td>N685BR</td>\n",
              "      <td>ontime</td>\n",
              "    </tr>\n",
              "  </tbody>\n",
              "</table>\n",
              "</div>"
            ],
            "text/plain": [
              "   CRS_DEP_TIME CARRIER  DEP_TIME  ... DAY_OF_MONTH  TAIL_NUM Flight_Status\n",
              "0          1455      OH      1455  ...            1    N940CA        ontime\n",
              "1          1640      DH      1640  ...            1    N405FJ        ontime\n",
              "2          1245      DH      1245  ...            1    N695BR        ontime\n",
              "3          1715      DH      1709  ...            1    N662BR        ontime\n",
              "4          1039      DH      1035  ...            1    N698BR        ontime\n",
              "5           840      DH       839  ...            1    N687BR        ontime\n",
              "6          1240      DH      1243  ...            1    N321UE        ontime\n",
              "7          1645      DH      1644  ...            1    N301UE        ontime\n",
              "8          1715      DH      1710  ...            1    N328UE        ontime\n",
              "9          2120      DH      2129  ...            1    N685BR        ontime\n",
              "\n",
              "[10 rows x 13 columns]"
            ]
          },
          "metadata": {
            "tags": []
          },
          "execution_count": 40
        }
      ]
    },
    {
      "cell_type": "code",
      "metadata": {
        "id": "_MMuAiSJMef0"
      },
      "source": [
        "data['Flight_Status'] = (data['Flight_Status'] !='ontime').astype(int)"
      ],
      "execution_count": 41,
      "outputs": []
    },
    {
      "cell_type": "code",
      "metadata": {
        "colab": {
          "base_uri": "https://localhost:8080/",
          "height": 548
        },
        "id": "4PZ8QlT9Mgbm",
        "outputId": "20d9f3c0-91e2-401a-9b3d-0f3e2a8a5b2d"
      },
      "source": [
        "data.head(10)"
      ],
      "execution_count": 42,
      "outputs": [
        {
          "output_type": "execute_result",
          "data": {
            "text/html": [
              "<div>\n",
              "<style scoped>\n",
              "    .dataframe tbody tr th:only-of-type {\n",
              "        vertical-align: middle;\n",
              "    }\n",
              "\n",
              "    .dataframe tbody tr th {\n",
              "        vertical-align: top;\n",
              "    }\n",
              "\n",
              "    .dataframe thead th {\n",
              "        text-align: right;\n",
              "    }\n",
              "</style>\n",
              "<table border=\"1\" class=\"dataframe\">\n",
              "  <thead>\n",
              "    <tr style=\"text-align: right;\">\n",
              "      <th></th>\n",
              "      <th>CRS_DEP_TIME</th>\n",
              "      <th>CARRIER</th>\n",
              "      <th>DEP_TIME</th>\n",
              "      <th>DEST</th>\n",
              "      <th>DISTANCE</th>\n",
              "      <th>FL_DATE</th>\n",
              "      <th>FL_NUM</th>\n",
              "      <th>ORIGIN</th>\n",
              "      <th>Weather</th>\n",
              "      <th>DAY_WEEK</th>\n",
              "      <th>DAY_OF_MONTH</th>\n",
              "      <th>TAIL_NUM</th>\n",
              "      <th>Flight_Status</th>\n",
              "    </tr>\n",
              "  </thead>\n",
              "  <tbody>\n",
              "    <tr>\n",
              "      <th>0</th>\n",
              "      <td>1455</td>\n",
              "      <td>OH</td>\n",
              "      <td>1455</td>\n",
              "      <td>JFK</td>\n",
              "      <td>184</td>\n",
              "      <td>01-01-2004</td>\n",
              "      <td>5935</td>\n",
              "      <td>BWI</td>\n",
              "      <td>0</td>\n",
              "      <td>4</td>\n",
              "      <td>1</td>\n",
              "      <td>N940CA</td>\n",
              "      <td>0</td>\n",
              "    </tr>\n",
              "    <tr>\n",
              "      <th>1</th>\n",
              "      <td>1640</td>\n",
              "      <td>DH</td>\n",
              "      <td>1640</td>\n",
              "      <td>JFK</td>\n",
              "      <td>213</td>\n",
              "      <td>01-01-2004</td>\n",
              "      <td>6155</td>\n",
              "      <td>DCA</td>\n",
              "      <td>0</td>\n",
              "      <td>4</td>\n",
              "      <td>1</td>\n",
              "      <td>N405FJ</td>\n",
              "      <td>0</td>\n",
              "    </tr>\n",
              "    <tr>\n",
              "      <th>2</th>\n",
              "      <td>1245</td>\n",
              "      <td>DH</td>\n",
              "      <td>1245</td>\n",
              "      <td>LGA</td>\n",
              "      <td>229</td>\n",
              "      <td>01-01-2004</td>\n",
              "      <td>7208</td>\n",
              "      <td>IAD</td>\n",
              "      <td>0</td>\n",
              "      <td>4</td>\n",
              "      <td>1</td>\n",
              "      <td>N695BR</td>\n",
              "      <td>0</td>\n",
              "    </tr>\n",
              "    <tr>\n",
              "      <th>3</th>\n",
              "      <td>1715</td>\n",
              "      <td>DH</td>\n",
              "      <td>1709</td>\n",
              "      <td>LGA</td>\n",
              "      <td>229</td>\n",
              "      <td>01-01-2004</td>\n",
              "      <td>7215</td>\n",
              "      <td>IAD</td>\n",
              "      <td>0</td>\n",
              "      <td>4</td>\n",
              "      <td>1</td>\n",
              "      <td>N662BR</td>\n",
              "      <td>0</td>\n",
              "    </tr>\n",
              "    <tr>\n",
              "      <th>4</th>\n",
              "      <td>1039</td>\n",
              "      <td>DH</td>\n",
              "      <td>1035</td>\n",
              "      <td>LGA</td>\n",
              "      <td>229</td>\n",
              "      <td>01-01-2004</td>\n",
              "      <td>7792</td>\n",
              "      <td>IAD</td>\n",
              "      <td>0</td>\n",
              "      <td>4</td>\n",
              "      <td>1</td>\n",
              "      <td>N698BR</td>\n",
              "      <td>0</td>\n",
              "    </tr>\n",
              "    <tr>\n",
              "      <th>5</th>\n",
              "      <td>840</td>\n",
              "      <td>DH</td>\n",
              "      <td>839</td>\n",
              "      <td>JFK</td>\n",
              "      <td>228</td>\n",
              "      <td>01-01-2004</td>\n",
              "      <td>7800</td>\n",
              "      <td>IAD</td>\n",
              "      <td>0</td>\n",
              "      <td>4</td>\n",
              "      <td>1</td>\n",
              "      <td>N687BR</td>\n",
              "      <td>0</td>\n",
              "    </tr>\n",
              "    <tr>\n",
              "      <th>6</th>\n",
              "      <td>1240</td>\n",
              "      <td>DH</td>\n",
              "      <td>1243</td>\n",
              "      <td>JFK</td>\n",
              "      <td>228</td>\n",
              "      <td>01-01-2004</td>\n",
              "      <td>7806</td>\n",
              "      <td>IAD</td>\n",
              "      <td>0</td>\n",
              "      <td>4</td>\n",
              "      <td>1</td>\n",
              "      <td>N321UE</td>\n",
              "      <td>0</td>\n",
              "    </tr>\n",
              "    <tr>\n",
              "      <th>7</th>\n",
              "      <td>1645</td>\n",
              "      <td>DH</td>\n",
              "      <td>1644</td>\n",
              "      <td>JFK</td>\n",
              "      <td>228</td>\n",
              "      <td>01-01-2004</td>\n",
              "      <td>7810</td>\n",
              "      <td>IAD</td>\n",
              "      <td>0</td>\n",
              "      <td>4</td>\n",
              "      <td>1</td>\n",
              "      <td>N301UE</td>\n",
              "      <td>0</td>\n",
              "    </tr>\n",
              "    <tr>\n",
              "      <th>8</th>\n",
              "      <td>1715</td>\n",
              "      <td>DH</td>\n",
              "      <td>1710</td>\n",
              "      <td>JFK</td>\n",
              "      <td>228</td>\n",
              "      <td>01-01-2004</td>\n",
              "      <td>7812</td>\n",
              "      <td>IAD</td>\n",
              "      <td>0</td>\n",
              "      <td>4</td>\n",
              "      <td>1</td>\n",
              "      <td>N328UE</td>\n",
              "      <td>0</td>\n",
              "    </tr>\n",
              "    <tr>\n",
              "      <th>9</th>\n",
              "      <td>2120</td>\n",
              "      <td>DH</td>\n",
              "      <td>2129</td>\n",
              "      <td>JFK</td>\n",
              "      <td>228</td>\n",
              "      <td>01-01-2004</td>\n",
              "      <td>7814</td>\n",
              "      <td>IAD</td>\n",
              "      <td>0</td>\n",
              "      <td>4</td>\n",
              "      <td>1</td>\n",
              "      <td>N685BR</td>\n",
              "      <td>0</td>\n",
              "    </tr>\n",
              "  </tbody>\n",
              "</table>\n",
              "</div>"
            ],
            "text/plain": [
              "   CRS_DEP_TIME CARRIER  DEP_TIME  ... DAY_OF_MONTH  TAIL_NUM Flight_Status\n",
              "0          1455      OH      1455  ...            1    N940CA             0\n",
              "1          1640      DH      1640  ...            1    N405FJ             0\n",
              "2          1245      DH      1245  ...            1    N695BR             0\n",
              "3          1715      DH      1709  ...            1    N662BR             0\n",
              "4          1039      DH      1035  ...            1    N698BR             0\n",
              "5           840      DH       839  ...            1    N687BR             0\n",
              "6          1240      DH      1243  ...            1    N321UE             0\n",
              "7          1645      DH      1644  ...            1    N301UE             0\n",
              "8          1715      DH      1710  ...            1    N328UE             0\n",
              "9          2120      DH      2129  ...            1    N685BR             0\n",
              "\n",
              "[10 rows x 13 columns]"
            ]
          },
          "metadata": {
            "tags": []
          },
          "execution_count": 42
        }
      ]
    },
    {
      "cell_type": "markdown",
      "metadata": {
        "id": "W6-py99cHKoi"
      },
      "source": [
        "**Data Analysis**"
      ]
    },
    {
      "cell_type": "code",
      "metadata": {
        "colab": {
          "base_uri": "https://localhost:8080/"
        },
        "id": "o0xboXkrHgGC",
        "outputId": "664afa7f-a7ed-4a79-bc89-8050eb52626a"
      },
      "source": [
        "data['Flight_Status'].value_counts()"
      ],
      "execution_count": 43,
      "outputs": [
        {
          "output_type": "execute_result",
          "data": {
            "text/plain": [
              "0    1773\n",
              "1     428\n",
              "Name: Flight_Status, dtype: int64"
            ]
          },
          "metadata": {
            "tags": []
          },
          "execution_count": 43
        }
      ]
    },
    {
      "cell_type": "code",
      "metadata": {
        "colab": {
          "base_uri": "https://localhost:8080/",
          "height": 302
        },
        "id": "UdRWZc5cG4xs",
        "outputId": "8ee0242e-a970-45a3-f723-fb3184091227"
      },
      "source": [
        "sns.countplot(x = 'Flight_Status', data = data, palette='husl')\n",
        "plt.show()\n",
        "plt.savefig('count_plot')"
      ],
      "execution_count": 44,
      "outputs": [
        {
          "output_type": "display_data",
          "data": {
            "image/png": "[encoded data removed]",
            "text/plain": [
              "<Figure size 432x288 with 1 Axes>"
            ]
          },
          "metadata": {
            "tags": []
          }
        },
        {
          "output_type": "display_data",
          "data": {
            "text/plain": [
              "<Figure size 432x288 with 0 Axes>"
            ]
          },
          "metadata": {
            "tags": []
          }
        }
      ]
    },
    {
      "cell_type": "code",
      "metadata": {
        "colab": {
          "base_uri": "https://localhost:8080/"
        },
        "id": "IViUcGFtG5A8",
        "outputId": "9dd87513-83e5-44c5-ad03-7b5f55bd22b9"
      },
      "source": [
        "count_no_delay = len(data[data['Flight_Status']==1])\n",
        "count_no_on_time = len(data[data['Flight_Status']==0])\n",
        "pct_of_no_on_time = count_no_on_time/(count_no_on_time+count_no_delay)\n",
        "print(\"percentage of ontime is\", pct_of_no_on_time*100)\n",
        "pct_of_no_of_delayed = count_no_delay/(count_no_delay+count_no_on_time)\n",
        "print(\"percentage of delay is\", pct_of_no_of_delayed*100)"
      ],
      "execution_count": 45,
      "outputs": [
        {
          "output_type": "stream",
          "text": [
            "percentage of ontime is 80.5542935029532\n",
            "percentage of delay is 19.445706497046796\n"
          ],
          "name": "stdout"
        }
      ]
    },
    {
      "cell_type": "code",
      "metadata": {
        "colab": {
          "base_uri": "https://localhost:8080/",
          "height": 141
        },
        "id": "H5NqpsgRKN6j",
        "outputId": "81cdce50-b50b-42a8-c7e0-370240d188f1"
      },
      "source": [
        "\n",
        "data.groupby('Flight_Status').mean()"
      ],
      "execution_count": 46,
      "outputs": [
        {
          "output_type": "execute_result",
          "data": {
            "text/html": [
              "<div>\n",
              "<style scoped>\n",
              "    .dataframe tbody tr th:only-of-type {\n",
              "        vertical-align: middle;\n",
              "    }\n",
              "\n",
              "    .dataframe tbody tr th {\n",
              "        vertical-align: top;\n",
              "    }\n",
              "\n",
              "    .dataframe thead th {\n",
              "        text-align: right;\n",
              "    }\n",
              "</style>\n",
              "<table border=\"1\" class=\"dataframe\">\n",
              "  <thead>\n",
              "    <tr style=\"text-align: right;\">\n",
              "      <th></th>\n",
              "      <th>CRS_DEP_TIME</th>\n",
              "      <th>DEP_TIME</th>\n",
              "      <th>DISTANCE</th>\n",
              "      <th>FL_NUM</th>\n",
              "      <th>Weather</th>\n",
              "      <th>DAY_WEEK</th>\n",
              "      <th>DAY_OF_MONTH</th>\n",
              "    </tr>\n",
              "    <tr>\n",
              "      <th>Flight_Status</th>\n",
              "      <th></th>\n",
              "      <th></th>\n",
              "      <th></th>\n",
              "      <th></th>\n",
              "      <th></th>\n",
              "      <th></th>\n",
              "      <th></th>\n",
              "    </tr>\n",
              "  </thead>\n",
              "  <tbody>\n",
              "    <tr>\n",
              "      <th>0</th>\n",
              "      <td>1348.032713</td>\n",
              "      <td>1332.325437</td>\n",
              "      <td>211.99436</td>\n",
              "      <td>3696.250423</td>\n",
              "      <td>0.000000</td>\n",
              "      <td>3.943598</td>\n",
              "      <td>15.741117</td>\n",
              "    </tr>\n",
              "    <tr>\n",
              "      <th>1</th>\n",
              "      <td>1470.969626</td>\n",
              "      <td>1522.462617</td>\n",
              "      <td>211.36215</td>\n",
              "      <td>4307.366822</td>\n",
              "      <td>0.074766</td>\n",
              "      <td>3.747664</td>\n",
              "      <td>17.200935</td>\n",
              "    </tr>\n",
              "  </tbody>\n",
              "</table>\n",
              "</div>"
            ],
            "text/plain": [
              "               CRS_DEP_TIME     DEP_TIME  ...  DAY_WEEK  DAY_OF_MONTH\n",
              "Flight_Status                             ...                        \n",
              "0               1348.032713  1332.325437  ...  3.943598     15.741117\n",
              "1               1470.969626  1522.462617  ...  3.747664     17.200935\n",
              "\n",
              "[2 rows x 7 columns]"
            ]
          },
          "metadata": {
            "tags": []
          },
          "execution_count": 46
        }
      ]
    },
    {
      "cell_type": "markdown",
      "metadata": {
        "id": "7pgiaSpULd2u"
      },
      "source": [
        "Weather plays an important role to predict Flight Status."
      ]
    },
    {
      "cell_type": "code",
      "metadata": {
        "colab": {
          "base_uri": "https://localhost:8080/",
          "height": 141
        },
        "id": "9wWEWF8mKOcf",
        "outputId": "35c7d60a-13e6-4333-8165-0f4cb9345431"
      },
      "source": [
        "data.groupby('Weather').mean()"
      ],
      "execution_count": 47,
      "outputs": [
        {
          "output_type": "execute_result",
          "data": {
            "text/html": [
              "<div>\n",
              "<style scoped>\n",
              "    .dataframe tbody tr th:only-of-type {\n",
              "        vertical-align: middle;\n",
              "    }\n",
              "\n",
              "    .dataframe tbody tr th {\n",
              "        vertical-align: top;\n",
              "    }\n",
              "\n",
              "    .dataframe thead th {\n",
              "        text-align: right;\n",
              "    }\n",
              "</style>\n",
              "<table border=\"1\" class=\"dataframe\">\n",
              "  <thead>\n",
              "    <tr style=\"text-align: right;\">\n",
              "      <th></th>\n",
              "      <th>CRS_DEP_TIME</th>\n",
              "      <th>DEP_TIME</th>\n",
              "      <th>DISTANCE</th>\n",
              "      <th>FL_NUM</th>\n",
              "      <th>DAY_WEEK</th>\n",
              "      <th>DAY_OF_MONTH</th>\n",
              "      <th>Flight_Status</th>\n",
              "    </tr>\n",
              "    <tr>\n",
              "      <th>Weather</th>\n",
              "      <th></th>\n",
              "      <th></th>\n",
              "      <th></th>\n",
              "      <th></th>\n",
              "      <th></th>\n",
              "      <th></th>\n",
              "      <th></th>\n",
              "    </tr>\n",
              "  </thead>\n",
              "  <tbody>\n",
              "    <tr>\n",
              "      <th>0</th>\n",
              "      <td>1372.372983</td>\n",
              "      <td>1368.278008</td>\n",
              "      <td>211.817888</td>\n",
              "      <td>3802.773628</td>\n",
              "      <td>3.934071</td>\n",
              "      <td>15.873213</td>\n",
              "      <td>0.182573</td>\n",
              "    </tr>\n",
              "    <tr>\n",
              "      <th>1</th>\n",
              "      <td>1342.500000</td>\n",
              "      <td>1438.500000</td>\n",
              "      <td>215.500000</td>\n",
              "      <td>4649.656250</td>\n",
              "      <td>1.968750</td>\n",
              "      <td>26.312500</td>\n",
              "      <td>1.000000</td>\n",
              "    </tr>\n",
              "  </tbody>\n",
              "</table>\n",
              "</div>"
            ],
            "text/plain": [
              "         CRS_DEP_TIME     DEP_TIME  ...  DAY_OF_MONTH  Flight_Status\n",
              "Weather                             ...                             \n",
              "0         1372.372983  1368.278008  ...     15.873213       0.182573\n",
              "1         1342.500000  1438.500000  ...     26.312500       1.000000\n",
              "\n",
              "[2 rows x 7 columns]"
            ]
          },
          "metadata": {
            "tags": []
          },
          "execution_count": 47
        }
      ]
    },
    {
      "cell_type": "code",
      "metadata": {
        "colab": {
          "base_uri": "https://localhost:8080/",
          "height": 327
        },
        "id": "SU-CoMT2NQs5",
        "outputId": "fc754612-566f-425a-a702-edcb4057c46e"
      },
      "source": [
        "data.groupby('CARRIER').mean()"
      ],
      "execution_count": 48,
      "outputs": [
        {
          "output_type": "execute_result",
          "data": {
            "text/html": [
              "<div>\n",
              "<style scoped>\n",
              "    .dataframe tbody tr th:only-of-type {\n",
              "        vertical-align: middle;\n",
              "    }\n",
              "\n",
              "    .dataframe tbody tr th {\n",
              "        vertical-align: top;\n",
              "    }\n",
              "\n",
              "    .dataframe thead th {\n",
              "        text-align: right;\n",
              "    }\n",
              "</style>\n",
              "<table border=\"1\" class=\"dataframe\">\n",
              "  <thead>\n",
              "    <tr style=\"text-align: right;\">\n",
              "      <th></th>\n",
              "      <th>CRS_DEP_TIME</th>\n",
              "      <th>DEP_TIME</th>\n",
              "      <th>DISTANCE</th>\n",
              "      <th>FL_NUM</th>\n",
              "      <th>Weather</th>\n",
              "      <th>DAY_WEEK</th>\n",
              "      <th>DAY_OF_MONTH</th>\n",
              "      <th>Flight_Status</th>\n",
              "    </tr>\n",
              "    <tr>\n",
              "      <th>CARRIER</th>\n",
              "      <th></th>\n",
              "      <th></th>\n",
              "      <th></th>\n",
              "      <th></th>\n",
              "      <th></th>\n",
              "      <th></th>\n",
              "      <th></th>\n",
              "      <th></th>\n",
              "    </tr>\n",
              "  </thead>\n",
              "  <tbody>\n",
              "    <tr>\n",
              "      <th>CO</th>\n",
              "      <td>1419.500000</td>\n",
              "      <td>1413.234043</td>\n",
              "      <td>199.000000</td>\n",
              "      <td>841.265957</td>\n",
              "      <td>0.021277</td>\n",
              "      <td>3.744681</td>\n",
              "      <td>16.159574</td>\n",
              "      <td>0.276596</td>\n",
              "    </tr>\n",
              "    <tr>\n",
              "      <th>DH</th>\n",
              "      <td>1448.673321</td>\n",
              "      <td>1464.225045</td>\n",
              "      <td>223.107078</td>\n",
              "      <td>7484.598911</td>\n",
              "      <td>0.019964</td>\n",
              "      <td>3.989111</td>\n",
              "      <td>15.992740</td>\n",
              "      <td>0.248639</td>\n",
              "    </tr>\n",
              "    <tr>\n",
              "      <th>DL</th>\n",
              "      <td>1369.368557</td>\n",
              "      <td>1373.587629</td>\n",
              "      <td>213.920103</td>\n",
              "      <td>1674.051546</td>\n",
              "      <td>0.007732</td>\n",
              "      <td>3.860825</td>\n",
              "      <td>16.340206</td>\n",
              "      <td>0.121134</td>\n",
              "    </tr>\n",
              "    <tr>\n",
              "      <th>MQ</th>\n",
              "      <td>1312.966102</td>\n",
              "      <td>1305.769492</td>\n",
              "      <td>213.691525</td>\n",
              "      <td>4902.867797</td>\n",
              "      <td>0.033898</td>\n",
              "      <td>3.789831</td>\n",
              "      <td>15.738983</td>\n",
              "      <td>0.271186</td>\n",
              "    </tr>\n",
              "    <tr>\n",
              "      <th>OH</th>\n",
              "      <td>1455.000000</td>\n",
              "      <td>1483.000000</td>\n",
              "      <td>184.000000</td>\n",
              "      <td>5935.000000</td>\n",
              "      <td>0.000000</td>\n",
              "      <td>4.033333</td>\n",
              "      <td>16.433333</td>\n",
              "      <td>0.133333</td>\n",
              "    </tr>\n",
              "    <tr>\n",
              "      <th>RU</th>\n",
              "      <td>1344.473039</td>\n",
              "      <td>1343.446078</td>\n",
              "      <td>195.039216</td>\n",
              "      <td>2522.916667</td>\n",
              "      <td>0.007353</td>\n",
              "      <td>4.022059</td>\n",
              "      <td>15.605392</td>\n",
              "      <td>0.230392</td>\n",
              "    </tr>\n",
              "    <tr>\n",
              "      <th>UA</th>\n",
              "      <td>850.000000</td>\n",
              "      <td>864.870968</td>\n",
              "      <td>229.000000</td>\n",
              "      <td>846.000000</td>\n",
              "      <td>0.064516</td>\n",
              "      <td>4.096774</td>\n",
              "      <td>16.000000</td>\n",
              "      <td>0.161290</td>\n",
              "    </tr>\n",
              "    <tr>\n",
              "      <th>US</th>\n",
              "      <td>1363.366337</td>\n",
              "      <td>1328.252475</td>\n",
              "      <td>214.000000</td>\n",
              "      <td>2139.623762</td>\n",
              "      <td>0.002475</td>\n",
              "      <td>3.814356</td>\n",
              "      <td>16.339109</td>\n",
              "      <td>0.086634</td>\n",
              "    </tr>\n",
              "  </tbody>\n",
              "</table>\n",
              "</div>"
            ],
            "text/plain": [
              "         CRS_DEP_TIME     DEP_TIME  ...  DAY_OF_MONTH  Flight_Status\n",
              "CARRIER                             ...                             \n",
              "CO        1419.500000  1413.234043  ...     16.159574       0.276596\n",
              "DH        1448.673321  1464.225045  ...     15.992740       0.248639\n",
              "DL        1369.368557  1373.587629  ...     16.340206       0.121134\n",
              "MQ        1312.966102  1305.769492  ...     15.738983       0.271186\n",
              "OH        1455.000000  1483.000000  ...     16.433333       0.133333\n",
              "RU        1344.473039  1343.446078  ...     15.605392       0.230392\n",
              "UA         850.000000   864.870968  ...     16.000000       0.161290\n",
              "US        1363.366337  1328.252475  ...     16.339109       0.086634\n",
              "\n",
              "[8 rows x 8 columns]"
            ]
          },
          "metadata": {
            "tags": []
          },
          "execution_count": 48
        }
      ]
    },
    {
      "cell_type": "code",
      "metadata": {
        "colab": {
          "base_uri": "https://localhost:8080/",
          "height": 172
        },
        "id": "wJJ5Nn9EOsaH",
        "outputId": "9e6de45f-deeb-4068-88ce-e2b6f86953a0"
      },
      "source": [
        "data.groupby('DEST').mean()"
      ],
      "execution_count": 49,
      "outputs": [
        {
          "output_type": "execute_result",
          "data": {
            "text/html": [
              "<div>\n",
              "<style scoped>\n",
              "    .dataframe tbody tr th:only-of-type {\n",
              "        vertical-align: middle;\n",
              "    }\n",
              "\n",
              "    .dataframe tbody tr th {\n",
              "        vertical-align: top;\n",
              "    }\n",
              "\n",
              "    .dataframe thead th {\n",
              "        text-align: right;\n",
              "    }\n",
              "</style>\n",
              "<table border=\"1\" class=\"dataframe\">\n",
              "  <thead>\n",
              "    <tr style=\"text-align: right;\">\n",
              "      <th></th>\n",
              "      <th>CRS_DEP_TIME</th>\n",
              "      <th>DEP_TIME</th>\n",
              "      <th>DISTANCE</th>\n",
              "      <th>FL_NUM</th>\n",
              "      <th>Weather</th>\n",
              "      <th>DAY_WEEK</th>\n",
              "      <th>DAY_OF_MONTH</th>\n",
              "      <th>Flight_Status</th>\n",
              "    </tr>\n",
              "    <tr>\n",
              "      <th>DEST</th>\n",
              "      <th></th>\n",
              "      <th></th>\n",
              "      <th></th>\n",
              "      <th></th>\n",
              "      <th></th>\n",
              "      <th></th>\n",
              "      <th></th>\n",
              "      <th></th>\n",
              "    </tr>\n",
              "  </thead>\n",
              "  <tbody>\n",
              "    <tr>\n",
              "      <th>EWR</th>\n",
              "      <td>1357.568421</td>\n",
              "      <td>1361.308271</td>\n",
              "      <td>200.001504</td>\n",
              "      <td>3457.278195</td>\n",
              "      <td>0.012030</td>\n",
              "      <td>3.957895</td>\n",
              "      <td>15.810526</td>\n",
              "      <td>0.242105</td>\n",
              "    </tr>\n",
              "    <tr>\n",
              "      <th>JFK</th>\n",
              "      <td>1475.103627</td>\n",
              "      <td>1488.883420</td>\n",
              "      <td>218.790155</td>\n",
              "      <td>6263.173575</td>\n",
              "      <td>0.020725</td>\n",
              "      <td>4.155440</td>\n",
              "      <td>15.935233</td>\n",
              "      <td>0.217617</td>\n",
              "    </tr>\n",
              "    <tr>\n",
              "      <th>LGA</th>\n",
              "      <td>1345.620870</td>\n",
              "      <td>1333.780870</td>\n",
              "      <td>216.413043</td>\n",
              "      <td>3200.286957</td>\n",
              "      <td>0.013913</td>\n",
              "      <td>3.791304</td>\n",
              "      <td>16.179130</td>\n",
              "      <td>0.159130</td>\n",
              "    </tr>\n",
              "  </tbody>\n",
              "</table>\n",
              "</div>"
            ],
            "text/plain": [
              "      CRS_DEP_TIME     DEP_TIME  ...  DAY_OF_MONTH  Flight_Status\n",
              "DEST                             ...                             \n",
              "EWR    1357.568421  1361.308271  ...     15.810526       0.242105\n",
              "JFK    1475.103627  1488.883420  ...     15.935233       0.217617\n",
              "LGA    1345.620870  1333.780870  ...     16.179130       0.159130\n",
              "\n",
              "[3 rows x 8 columns]"
            ]
          },
          "metadata": {
            "tags": []
          },
          "execution_count": 49
        }
      ]
    },
    {
      "cell_type": "markdown",
      "metadata": {
        "id": "cn5cWNTIPTSn"
      },
      "source": [
        "**Bar Graphs**"
      ]
    },
    {
      "cell_type": "code",
      "metadata": {
        "colab": {
          "base_uri": "https://localhost:8080/",
          "height": 298
        },
        "id": "TrxLOe2NPgmQ",
        "outputId": "7314d1bd-4221-4189-ec71-2800e12f50fa"
      },
      "source": [
        "\n",
        "%matplotlib inline\n",
        "pd.crosstab(data.Weather,data.Flight_Status).plot(kind='bar')\n",
        "plt.title('Frequency of flights vs Weather')\n",
        "plt.xlabel('Weather')\n",
        "plt.ylabel('Frequency of flights')\n",
        "plt.savefig('Flight_Status_weather')"
      ],
      "execution_count": 50,
      "outputs": [
        {
          "output_type": "display_data",
          "data": {
            "image/png": "[encoded data removed]",
            "text/plain": [
              "<Figure size 432x288 with 1 Axes>"
            ]
          },
          "metadata": {
            "tags": [],
            "needs_background": "light"
          }
        }
      ]
    },
    {
      "cell_type": "markdown",
      "metadata": {
        "id": "aMEENQD2RiGT"
      },
      "source": [
        "Bad weather directly implies that the flight is delayed. "
      ]
    },
    {
      "cell_type": "code",
      "metadata": {
        "colab": {
          "base_uri": "https://localhost:8080/",
          "height": 309
        },
        "id": "SgR41fc-PgwF",
        "outputId": "fbc05bda-5a4c-40d1-c56b-51cd872e7ce5"
      },
      "source": [
        "table=pd.crosstab(data.CARRIER,data.Flight_Status)\n",
        "table.div(table.sum(1).astype(float), axis=0).plot(kind='bar')\n",
        "plt.title('Frequency of flights vs CARRIER')\n",
        "plt.xlabel('Carrier')\n",
        "plt.ylabel('Frequency of flights')\n",
        "plt.savefig('Flight_Status_carrier')"
      ],
      "execution_count": 52,
      "outputs": [
        {
          "output_type": "display_data",
          "data": {
            "image/png": "[encoded data removed]",
            "text/plain": [
              "<Figure size 432x288 with 1 Axes>"
            ]
          },
          "metadata": {
            "tags": [],
            "needs_background": "light"
          }
        }
      ]
    },
    {
      "cell_type": "markdown",
      "metadata": {
        "id": "i2XdmijAS33F"
      },
      "source": [
        "Some of the carriers are biased towards Flight_Status so this can also be a useful feature."
      ]
    },
    {
      "cell_type": "code",
      "metadata": {
        "colab": {
          "base_uri": "https://localhost:8080/",
          "height": 316
        },
        "id": "H4m94L26TGOy",
        "outputId": "dcb400e4-cbb0-4604-9ed8-d263bed743d3"
      },
      "source": [
        "table=pd.crosstab(data.DEST,data.Flight_Status)\n",
        "table.div(table.sum(1).astype(float), axis=0).plot(kind='bar')\n",
        "plt.title('Stacked Bar Chart of Frequency of flights vs DEST')\n",
        "plt.xlabel('DEST')\n",
        "plt.ylabel('Frequency of flights')\n",
        "plt.savefig('dest_vs_Flight_Status')"
      ],
      "execution_count": 53,
      "outputs": [
        {
          "output_type": "display_data",
          "data": {
            "image/png": "[encoded data removed]",
            "text/plain": [
              "<Figure size 432x288 with 1 Axes>"
            ]
          },
          "metadata": {
            "tags": [],
            "needs_background": "light"
          }
        }
      ]
    },
    {
      "cell_type": "code",
      "metadata": {
        "colab": {
          "base_uri": "https://localhost:8080/",
          "height": 298
        },
        "id": "aTmfR8HCTGQ_",
        "outputId": "e945b385-8fdc-4bf0-b713-685d688f46af"
      },
      "source": [
        "\n",
        "pd.crosstab(data.DAY_WEEK,data.Flight_Status).plot(kind='bar')\n",
        "plt.title('Frequency of flights vs Day_week')\n",
        "plt.xlabel('Day_week')\n",
        "plt.ylabel('Frequency of flights')\n",
        "plt.savefig('Flight_Status_dayweek')"
      ],
      "execution_count": 54,
      "outputs": [
        {
          "output_type": "display_data",
          "data": {
            "image/png": "[encoded data removed]",
            "text/plain": [
              "<Figure size 432x288 with 1 Axes>"
            ]
          },
          "metadata": {
            "tags": [],
            "needs_background": "light"
          }
        }
      ]
    },
    {
      "cell_type": "markdown",
      "metadata": {
        "id": "he5EDO7-Uv4L"
      },
      "source": [
        "  It's visible that on few days the ratio of flight_delayed and flight_on_time is relatively higher so this can be a good feature to use.  "
      ]
    },
    {
      "cell_type": "code",
      "metadata": {
        "colab": {
          "base_uri": "https://localhost:8080/",
          "height": 305
        },
        "id": "Lx-ogZgyVCfv",
        "outputId": "a9957a3a-aaee-469c-95d7-7535fb37c6d1"
      },
      "source": [
        "pd.crosstab(data.DAY_OF_MONTH,data.Flight_Status).plot(kind='bar')\n",
        "plt.title('Frequency of flights vs Day_OF_Month')\n",
        "plt.xlabel('Day_OF_Month')\n",
        "plt.ylabel('Frequency of flights')\n",
        "plt.savefig('frequency_flight_month')"
      ],
      "execution_count": 55,
      "outputs": [
        {
          "output_type": "display_data",
          "data": {
            "image/png": "[encoded data removed]",
            "text/plain": [
              "<Figure size 432x288 with 1 Axes>"
            ]
          },
          "metadata": {
            "tags": [],
            "needs_background": "light"
          }
        }
      ]
    },
    {
      "cell_type": "markdown",
      "metadata": {
        "id": "hS_YXhkVWPNX"
      },
      "source": [
        "Day_of_month may divide the flight delay data in a good way, but because of high number of attributes this may not be the most  preferable one."
      ]
    },
    {
      "cell_type": "code",
      "metadata": {
        "colab": {
          "base_uri": "https://localhost:8080/",
          "height": 314
        },
        "id": "DdVUKe5VYYsL",
        "outputId": "0f810884-e93a-4158-c3b3-f8b037a32bb0"
      },
      "source": [
        "pd.crosstab(data.ORIGIN,data.Flight_Status).plot(kind='bar')\n",
        "plt.title('Frequency of flights vs ORIGIN')\n",
        "plt.xlabel('ORIGIN')\n",
        "plt.ylabel('Frequency of flights')\n",
        "plt.savefig('origin_frequebcy_flights_bar')"
      ],
      "execution_count": 56,
      "outputs": [
        {
          "output_type": "display_data",
          "data": {
            "image/png": "[encoded data removed]",
            "text/plain": [
              "<Figure size 432x288 with 1 Axes>"
            ]
          },
          "metadata": {
            "tags": [],
            "needs_background": "light"
          }
        }
      ]
    },
    {
      "cell_type": "markdown",
      "metadata": {
        "id": "9mlF5J8dZIDF"
      },
      "source": [
        "Origin also looks like a good classifier."
      ]
    },
    {
      "cell_type": "code",
      "metadata": {
        "colab": {
          "base_uri": "https://localhost:8080/",
          "height": 319
        },
        "id": "d8zbV8JBbBEI",
        "outputId": "1c5ce3bc-ca42-4229-cf1f-9c837086dd51"
      },
      "source": [
        "pd.crosstab(data.CRS_DEP_TIME,data.Flight_Status).plot(kind='bar')\n",
        "plt.title('Frequency of flights vs CRS_DEP_TIME')\n",
        "plt.xlabel('CRS_DEP_TIME')\n",
        "plt.ylabel('Frequency of flights')\n",
        "plt.savefig('CRS_fre_frequency_bar')"
      ],
      "execution_count": 58,
      "outputs": [
        {
          "output_type": "display_data",
          "data": {
            "image/png": "[encoded data removed]",
            "text/plain": [
              "<Figure size 432x288 with 1 Axes>"
            ]
          },
          "metadata": {
            "tags": [],
            "needs_background": "light"
          }
        }
      ]
    },
    {
      "cell_type": "code",
      "metadata": {
        "colab": {
          "base_uri": "https://localhost:8080/",
          "height": 312
        },
        "id": "pcYZHBXpbBG4",
        "outputId": "40c343a9-ce39-4b02-e461-d3ad13c8350e"
      },
      "source": [
        "pd.crosstab(data.DISTANCE,data.Flight_Status).plot(kind='bar')\n",
        "plt.title('Frequency of flights vs Distance')\n",
        "plt.xlabel('Distance')\n",
        "plt.ylabel('Frequency of flights')\n",
        "plt.savefig('Distance_fre_frequency_bar')"
      ],
      "execution_count": 59,
      "outputs": [
        {
          "output_type": "display_data",
          "data": {
            "image/png": "[encoded data removed]",
            "text/plain": [
              "<Figure size 432x288 with 1 Axes>"
            ]
          },
          "metadata": {
            "tags": [],
            "needs_background": "light"
          }
        }
      ]
    },
    {
      "cell_type": "code",
      "metadata": {
        "colab": {
          "base_uri": "https://localhost:8080/",
          "height": 355
        },
        "id": "8DbE8vE6bBJp",
        "outputId": "74661555-03a5-48fc-d226-2fe2ee6ac69b"
      },
      "source": [
        "\n",
        "\n",
        "pd.crosstab(data.FL_DATE,data.Flight_Status).plot(kind='bar')\n",
        "plt.title('Frequency of flights vs FL_date')\n",
        "plt.xlabel('FL_date')\n",
        "plt.ylabel('Frequency of flights')\n",
        "plt.savefig('fl_date_fre_frequency_bar')"
      ],
      "execution_count": 60,
      "outputs": [
        {
          "output_type": "display_data",
          "data": {
            "image/png": "[encoded data removed]",
            "text/plain": [
              "<Figure size 432x288 with 1 Axes>"
            ]
          },
          "metadata": {
            "tags": [],
            "needs_background": "light"
          }
        }
      ]
    },
    {
      "cell_type": "code",
      "metadata": {
        "colab": {
          "base_uri": "https://localhost:8080/",
          "height": 319
        },
        "id": "kkFo9SfcbBMF",
        "outputId": "dd02e943-84c1-4695-b26d-ce6cc9283f4d"
      },
      "source": [
        "pd.crosstab(data.FL_NUM,data.Flight_Status).plot(kind='bar')\n",
        "plt.title('Frequency of flights vs FL_NUM')\n",
        "plt.xlabel('FL_NUM')\n",
        "plt.ylabel('Frequency of flights')\n",
        "plt.savefig('fl_num_fre_frequency_bar')"
      ],
      "execution_count": 62,
      "outputs": [
        {
          "output_type": "display_data",
          "data": {
            "image/png": "[encoded data removed]",
            "text/plain": [
              "<Figure size 432x288 with 1 Axes>"
            ]
          },
          "metadata": {
            "tags": [],
            "needs_background": "light"
          }
        }
      ]
    },
    {
      "cell_type": "code",
      "metadata": {
        "colab": {
          "base_uri": "https://localhost:8080/",
          "height": 319
        },
        "id": "_r9ukh_VbBQ5",
        "outputId": "760be9b2-297f-4a2e-d121-a7b035a6a342"
      },
      "source": [
        "pd.crosstab(data.DEP_TIME,data.Flight_Status).plot(kind='bar')\n",
        "plt.title('Frequency of flights vs DEP_TIME')\n",
        "plt.xlabel('DEP_TIME')\n",
        "plt.ylabel('Frequency of flights')\n",
        "plt.savefig('DEP_TIME_fre_frequency_bar')"
      ],
      "execution_count": 63,
      "outputs": [
        {
          "output_type": "display_data",
          "data": {
            "image/png": "[encoded data removed]",
            "text/plain": [
              "<Figure size 432x288 with 1 Axes>"
            ]
          },
          "metadata": {
            "tags": [],
            "needs_background": "light"
          }
        }
      ]
    },
    {
      "cell_type": "code",
      "metadata": {
        "colab": {
          "base_uri": "https://localhost:8080/",
          "height": 339
        },
        "id": "br83tokGW0ub",
        "outputId": "7de6af15-a17b-49ea-e9cb-a20880de6ec4"
      },
      "source": [
        "pd.crosstab(data.TAIL_NUM,data.Flight_Status).plot(kind='bar')\n",
        "plt.title('Frequency of flights vs TAIL_NUM')\n",
        "plt.xlabel('TAIL_NUM')\n",
        "plt.ylabel('Frequency of flights')\n",
        "plt.savefig('tail_fre_frequency_bar')"
      ],
      "execution_count": 64,
      "outputs": [
        {
          "output_type": "display_data",
          "data": {
            "image/png": "[encoded data removed]",
            "text/plain": [
              "<Figure size 432x288 with 1 Axes>"
            ]
          },
          "metadata": {
            "tags": [],
            "needs_background": "light"
          }
        }
      ]
    },
    {
      "cell_type": "markdown",
      "metadata": {
        "id": "3_dSsRTUXxcm"
      },
      "source": [
        "Because of too many attributes TAIL_NUM is not a good classfier.\n",
        "By same argument FL_NUM may not be good classfier because of too many attributes. So, we have to drop these columns."
      ]
    },
    {
      "cell_type": "code",
      "metadata": {
        "id": "lVJecF6fYApH"
      },
      "source": [
        "data = data.drop([\"TAIL_NUM\" ], axis=1)"
      ],
      "execution_count": 65,
      "outputs": []
    },
    {
      "cell_type": "code",
      "metadata": {
        "colab": {
          "base_uri": "https://localhost:8080/"
        },
        "id": "ScsdPrg47mRW",
        "outputId": "1b35ab61-e362-49c3-ca41-5a6068a1218a"
      },
      "source": [
        "data.shape"
      ],
      "execution_count": 66,
      "outputs": [
        {
          "output_type": "execute_result",
          "data": {
            "text/plain": [
              "(2201, 12)"
            ]
          },
          "metadata": {
            "tags": []
          },
          "execution_count": 66
        }
      ]
    },
    {
      "cell_type": "code",
      "metadata": {
        "colab": {
          "base_uri": "https://localhost:8080/",
          "height": 523
        },
        "id": "tVFcZVzveMGX",
        "outputId": "6d71b54e-3bee-4eea-cd80-d927c729792d"
      },
      "source": [
        "data"
      ],
      "execution_count": 67,
      "outputs": [
        {
          "output_type": "execute_result",
          "data": {
            "text/html": [
              "<div>\n",
              "<style scoped>\n",
              "    .dataframe tbody tr th:only-of-type {\n",
              "        vertical-align: middle;\n",
              "    }\n",
              "\n",
              "    .dataframe tbody tr th {\n",
              "        vertical-align: top;\n",
              "    }\n",
              "\n",
              "    .dataframe thead th {\n",
              "        text-align: right;\n",
              "    }\n",
              "</style>\n",
              "<table border=\"1\" class=\"dataframe\">\n",
              "  <thead>\n",
              "    <tr style=\"text-align: right;\">\n",
              "      <th></th>\n",
              "      <th>CRS_DEP_TIME</th>\n",
              "      <th>CARRIER</th>\n",
              "      <th>DEP_TIME</th>\n",
              "      <th>DEST</th>\n",
              "      <th>DISTANCE</th>\n",
              "      <th>FL_DATE</th>\n",
              "      <th>FL_NUM</th>\n",
              "      <th>ORIGIN</th>\n",
              "      <th>Weather</th>\n",
              "      <th>DAY_WEEK</th>\n",
              "      <th>DAY_OF_MONTH</th>\n",
              "      <th>Flight_Status</th>\n",
              "    </tr>\n",
              "  </thead>\n",
              "  <tbody>\n",
              "    <tr>\n",
              "      <th>0</th>\n",
              "      <td>1455</td>\n",
              "      <td>OH</td>\n",
              "      <td>1455</td>\n",
              "      <td>JFK</td>\n",
              "      <td>184</td>\n",
              "      <td>01-01-2004</td>\n",
              "      <td>5935</td>\n",
              "      <td>BWI</td>\n",
              "      <td>0</td>\n",
              "      <td>4</td>\n",
              "      <td>1</td>\n",
              "      <td>0</td>\n",
              "    </tr>\n",
              "    <tr>\n",
              "      <th>1</th>\n",
              "      <td>1640</td>\n",
              "      <td>DH</td>\n",
              "      <td>1640</td>\n",
              "      <td>JFK</td>\n",
              "      <td>213</td>\n",
              "      <td>01-01-2004</td>\n",
              "      <td>6155</td>\n",
              "      <td>DCA</td>\n",
              "      <td>0</td>\n",
              "      <td>4</td>\n",
              "      <td>1</td>\n",
              "      <td>0</td>\n",
              "    </tr>\n",
              "    <tr>\n",
              "      <th>2</th>\n",
              "      <td>1245</td>\n",
              "      <td>DH</td>\n",
              "      <td>1245</td>\n",
              "      <td>LGA</td>\n",
              "      <td>229</td>\n",
              "      <td>01-01-2004</td>\n",
              "      <td>7208</td>\n",
              "      <td>IAD</td>\n",
              "      <td>0</td>\n",
              "      <td>4</td>\n",
              "      <td>1</td>\n",
              "      <td>0</td>\n",
              "    </tr>\n",
              "    <tr>\n",
              "      <th>3</th>\n",
              "      <td>1715</td>\n",
              "      <td>DH</td>\n",
              "      <td>1709</td>\n",
              "      <td>LGA</td>\n",
              "      <td>229</td>\n",
              "      <td>01-01-2004</td>\n",
              "      <td>7215</td>\n",
              "      <td>IAD</td>\n",
              "      <td>0</td>\n",
              "      <td>4</td>\n",
              "      <td>1</td>\n",
              "      <td>0</td>\n",
              "    </tr>\n",
              "    <tr>\n",
              "      <th>4</th>\n",
              "      <td>1039</td>\n",
              "      <td>DH</td>\n",
              "      <td>1035</td>\n",
              "      <td>LGA</td>\n",
              "      <td>229</td>\n",
              "      <td>01-01-2004</td>\n",
              "      <td>7792</td>\n",
              "      <td>IAD</td>\n",
              "      <td>0</td>\n",
              "      <td>4</td>\n",
              "      <td>1</td>\n",
              "      <td>0</td>\n",
              "    </tr>\n",
              "    <tr>\n",
              "      <th>...</th>\n",
              "      <td>...</td>\n",
              "      <td>...</td>\n",
              "      <td>...</td>\n",
              "      <td>...</td>\n",
              "      <td>...</td>\n",
              "      <td>...</td>\n",
              "      <td>...</td>\n",
              "      <td>...</td>\n",
              "      <td>...</td>\n",
              "      <td>...</td>\n",
              "      <td>...</td>\n",
              "      <td>...</td>\n",
              "    </tr>\n",
              "    <tr>\n",
              "      <th>2196</th>\n",
              "      <td>645</td>\n",
              "      <td>RU</td>\n",
              "      <td>644</td>\n",
              "      <td>EWR</td>\n",
              "      <td>199</td>\n",
              "      <td>1/31/2004</td>\n",
              "      <td>2761</td>\n",
              "      <td>DCA</td>\n",
              "      <td>0</td>\n",
              "      <td>6</td>\n",
              "      <td>31</td>\n",
              "      <td>0</td>\n",
              "    </tr>\n",
              "    <tr>\n",
              "      <th>2197</th>\n",
              "      <td>1700</td>\n",
              "      <td>RU</td>\n",
              "      <td>1653</td>\n",
              "      <td>EWR</td>\n",
              "      <td>213</td>\n",
              "      <td>1/31/2004</td>\n",
              "      <td>2497</td>\n",
              "      <td>IAD</td>\n",
              "      <td>0</td>\n",
              "      <td>6</td>\n",
              "      <td>31</td>\n",
              "      <td>0</td>\n",
              "    </tr>\n",
              "    <tr>\n",
              "      <th>2198</th>\n",
              "      <td>1600</td>\n",
              "      <td>RU</td>\n",
              "      <td>1558</td>\n",
              "      <td>EWR</td>\n",
              "      <td>199</td>\n",
              "      <td>1/31/2004</td>\n",
              "      <td>2361</td>\n",
              "      <td>DCA</td>\n",
              "      <td>0</td>\n",
              "      <td>6</td>\n",
              "      <td>31</td>\n",
              "      <td>0</td>\n",
              "    </tr>\n",
              "    <tr>\n",
              "      <th>2199</th>\n",
              "      <td>1359</td>\n",
              "      <td>RU</td>\n",
              "      <td>1403</td>\n",
              "      <td>EWR</td>\n",
              "      <td>199</td>\n",
              "      <td>1/31/2004</td>\n",
              "      <td>2216</td>\n",
              "      <td>DCA</td>\n",
              "      <td>0</td>\n",
              "      <td>6</td>\n",
              "      <td>31</td>\n",
              "      <td>0</td>\n",
              "    </tr>\n",
              "    <tr>\n",
              "      <th>2200</th>\n",
              "      <td>1730</td>\n",
              "      <td>RU</td>\n",
              "      <td>1736</td>\n",
              "      <td>EWR</td>\n",
              "      <td>199</td>\n",
              "      <td>1/31/2004</td>\n",
              "      <td>2097</td>\n",
              "      <td>DCA</td>\n",
              "      <td>0</td>\n",
              "      <td>6</td>\n",
              "      <td>31</td>\n",
              "      <td>0</td>\n",
              "    </tr>\n",
              "  </tbody>\n",
              "</table>\n",
              "<p>2201 rows × 12 columns</p>\n",
              "</div>"
            ],
            "text/plain": [
              "      CRS_DEP_TIME CARRIER  DEP_TIME  ... DAY_WEEK  DAY_OF_MONTH Flight_Status\n",
              "0             1455      OH      1455  ...        4             1             0\n",
              "1             1640      DH      1640  ...        4             1             0\n",
              "2             1245      DH      1245  ...        4             1             0\n",
              "3             1715      DH      1709  ...        4             1             0\n",
              "4             1039      DH      1035  ...        4             1             0\n",
              "...            ...     ...       ...  ...      ...           ...           ...\n",
              "2196           645      RU       644  ...        6            31             0\n",
              "2197          1700      RU      1653  ...        6            31             0\n",
              "2198          1600      RU      1558  ...        6            31             0\n",
              "2199          1359      RU      1403  ...        6            31             0\n",
              "2200          1730      RU      1736  ...        6            31             0\n",
              "\n",
              "[2201 rows x 12 columns]"
            ]
          },
          "metadata": {
            "tags": []
          },
          "execution_count": 67
        }
      ]
    },
    {
      "cell_type": "code",
      "metadata": {
        "id": "wXV888uFE_P7"
      },
      "source": [
        "data = data.drop([\"FL_NUM\" ], axis=1)"
      ],
      "execution_count": 69,
      "outputs": []
    },
    {
      "cell_type": "code",
      "metadata": {
        "colab": {
          "base_uri": "https://localhost:8080/"
        },
        "id": "BhaoUSDIFZhN",
        "outputId": "73ec3cc7-372a-4caf-aaff-b388f2284585"
      },
      "source": [
        "data.shape"
      ],
      "execution_count": 70,
      "outputs": [
        {
          "output_type": "execute_result",
          "data": {
            "text/plain": [
              "(2201, 11)"
            ]
          },
          "metadata": {
            "tags": []
          },
          "execution_count": 70
        }
      ]
    },
    {
      "cell_type": "code",
      "metadata": {
        "colab": {
          "base_uri": "https://localhost:8080/",
          "height": 523
        },
        "id": "bUfHiTT4FbKc",
        "outputId": "4b1b06c0-fd27-4730-89cb-4ff73859b623"
      },
      "source": [
        "data"
      ],
      "execution_count": 71,
      "outputs": [
        {
          "output_type": "execute_result",
          "data": {
            "text/html": [
              "<div>\n",
              "<style scoped>\n",
              "    .dataframe tbody tr th:only-of-type {\n",
              "        vertical-align: middle;\n",
              "    }\n",
              "\n",
              "    .dataframe tbody tr th {\n",
              "        vertical-align: top;\n",
              "    }\n",
              "\n",
              "    .dataframe thead th {\n",
              "        text-align: right;\n",
              "    }\n",
              "</style>\n",
              "<table border=\"1\" class=\"dataframe\">\n",
              "  <thead>\n",
              "    <tr style=\"text-align: right;\">\n",
              "      <th></th>\n",
              "      <th>CRS_DEP_TIME</th>\n",
              "      <th>CARRIER</th>\n",
              "      <th>DEP_TIME</th>\n",
              "      <th>DEST</th>\n",
              "      <th>DISTANCE</th>\n",
              "      <th>FL_DATE</th>\n",
              "      <th>ORIGIN</th>\n",
              "      <th>Weather</th>\n",
              "      <th>DAY_WEEK</th>\n",
              "      <th>DAY_OF_MONTH</th>\n",
              "      <th>Flight_Status</th>\n",
              "    </tr>\n",
              "  </thead>\n",
              "  <tbody>\n",
              "    <tr>\n",
              "      <th>0</th>\n",
              "      <td>1455</td>\n",
              "      <td>OH</td>\n",
              "      <td>1455</td>\n",
              "      <td>JFK</td>\n",
              "      <td>184</td>\n",
              "      <td>01-01-2004</td>\n",
              "      <td>BWI</td>\n",
              "      <td>0</td>\n",
              "      <td>4</td>\n",
              "      <td>1</td>\n",
              "      <td>0</td>\n",
              "    </tr>\n",
              "    <tr>\n",
              "      <th>1</th>\n",
              "      <td>1640</td>\n",
              "      <td>DH</td>\n",
              "      <td>1640</td>\n",
              "      <td>JFK</td>\n",
              "      <td>213</td>\n",
              "      <td>01-01-2004</td>\n",
              "      <td>DCA</td>\n",
              "      <td>0</td>\n",
              "      <td>4</td>\n",
              "      <td>1</td>\n",
              "      <td>0</td>\n",
              "    </tr>\n",
              "    <tr>\n",
              "      <th>2</th>\n",
              "      <td>1245</td>\n",
              "      <td>DH</td>\n",
              "      <td>1245</td>\n",
              "      <td>LGA</td>\n",
              "      <td>229</td>\n",
              "      <td>01-01-2004</td>\n",
              "      <td>IAD</td>\n",
              "      <td>0</td>\n",
              "      <td>4</td>\n",
              "      <td>1</td>\n",
              "      <td>0</td>\n",
              "    </tr>\n",
              "    <tr>\n",
              "      <th>3</th>\n",
              "      <td>1715</td>\n",
              "      <td>DH</td>\n",
              "      <td>1709</td>\n",
              "      <td>LGA</td>\n",
              "      <td>229</td>\n",
              "      <td>01-01-2004</td>\n",
              "      <td>IAD</td>\n",
              "      <td>0</td>\n",
              "      <td>4</td>\n",
              "      <td>1</td>\n",
              "      <td>0</td>\n",
              "    </tr>\n",
              "    <tr>\n",
              "      <th>4</th>\n",
              "      <td>1039</td>\n",
              "      <td>DH</td>\n",
              "      <td>1035</td>\n",
              "      <td>LGA</td>\n",
              "      <td>229</td>\n",
              "      <td>01-01-2004</td>\n",
              "      <td>IAD</td>\n",
              "      <td>0</td>\n",
              "      <td>4</td>\n",
              "      <td>1</td>\n",
              "      <td>0</td>\n",
              "    </tr>\n",
              "    <tr>\n",
              "      <th>...</th>\n",
              "      <td>...</td>\n",
              "      <td>...</td>\n",
              "      <td>...</td>\n",
              "      <td>...</td>\n",
              "      <td>...</td>\n",
              "      <td>...</td>\n",
              "      <td>...</td>\n",
              "      <td>...</td>\n",
              "      <td>...</td>\n",
              "      <td>...</td>\n",
              "      <td>...</td>\n",
              "    </tr>\n",
              "    <tr>\n",
              "      <th>2196</th>\n",
              "      <td>645</td>\n",
              "      <td>RU</td>\n",
              "      <td>644</td>\n",
              "      <td>EWR</td>\n",
              "      <td>199</td>\n",
              "      <td>1/31/2004</td>\n",
              "      <td>DCA</td>\n",
              "      <td>0</td>\n",
              "      <td>6</td>\n",
              "      <td>31</td>\n",
              "      <td>0</td>\n",
              "    </tr>\n",
              "    <tr>\n",
              "      <th>2197</th>\n",
              "      <td>1700</td>\n",
              "      <td>RU</td>\n",
              "      <td>1653</td>\n",
              "      <td>EWR</td>\n",
              "      <td>213</td>\n",
              "      <td>1/31/2004</td>\n",
              "      <td>IAD</td>\n",
              "      <td>0</td>\n",
              "      <td>6</td>\n",
              "      <td>31</td>\n",
              "      <td>0</td>\n",
              "    </tr>\n",
              "    <tr>\n",
              "      <th>2198</th>\n",
              "      <td>1600</td>\n",
              "      <td>RU</td>\n",
              "      <td>1558</td>\n",
              "      <td>EWR</td>\n",
              "      <td>199</td>\n",
              "      <td>1/31/2004</td>\n",
              "      <td>DCA</td>\n",
              "      <td>0</td>\n",
              "      <td>6</td>\n",
              "      <td>31</td>\n",
              "      <td>0</td>\n",
              "    </tr>\n",
              "    <tr>\n",
              "      <th>2199</th>\n",
              "      <td>1359</td>\n",
              "      <td>RU</td>\n",
              "      <td>1403</td>\n",
              "      <td>EWR</td>\n",
              "      <td>199</td>\n",
              "      <td>1/31/2004</td>\n",
              "      <td>DCA</td>\n",
              "      <td>0</td>\n",
              "      <td>6</td>\n",
              "      <td>31</td>\n",
              "      <td>0</td>\n",
              "    </tr>\n",
              "    <tr>\n",
              "      <th>2200</th>\n",
              "      <td>1730</td>\n",
              "      <td>RU</td>\n",
              "      <td>1736</td>\n",
              "      <td>EWR</td>\n",
              "      <td>199</td>\n",
              "      <td>1/31/2004</td>\n",
              "      <td>DCA</td>\n",
              "      <td>0</td>\n",
              "      <td>6</td>\n",
              "      <td>31</td>\n",
              "      <td>0</td>\n",
              "    </tr>\n",
              "  </tbody>\n",
              "</table>\n",
              "<p>2201 rows × 11 columns</p>\n",
              "</div>"
            ],
            "text/plain": [
              "      CRS_DEP_TIME CARRIER  DEP_TIME  ... DAY_WEEK  DAY_OF_MONTH Flight_Status\n",
              "0             1455      OH      1455  ...        4             1             0\n",
              "1             1640      DH      1640  ...        4             1             0\n",
              "2             1245      DH      1245  ...        4             1             0\n",
              "3             1715      DH      1709  ...        4             1             0\n",
              "4             1039      DH      1035  ...        4             1             0\n",
              "...            ...     ...       ...  ...      ...           ...           ...\n",
              "2196           645      RU       644  ...        6            31             0\n",
              "2197          1700      RU      1653  ...        6            31             0\n",
              "2198          1600      RU      1558  ...        6            31             0\n",
              "2199          1359      RU      1403  ...        6            31             0\n",
              "2200          1730      RU      1736  ...        6            31             0\n",
              "\n",
              "[2201 rows x 11 columns]"
            ]
          },
          "metadata": {
            "tags": []
          },
          "execution_count": 71
        }
      ]
    },
    {
      "cell_type": "code",
      "metadata": {
        "id": "9LQP-krma3gq"
      },
      "source": [
        "import statsmodels.api as sm\n",
        "import pandas as pd\n",
        "import pylab as pl\n",
        "import numpy as np"
      ],
      "execution_count": 72,
      "outputs": []
    },
    {
      "cell_type": "code",
      "metadata": {
        "colab": {
          "base_uri": "https://localhost:8080/"
        },
        "id": "GdFNcQP1whxo",
        "outputId": "f8e3527a-2ae9-47f2-a559-a8bb1a4523c0"
      },
      "source": [
        "## creating dummy variables\n",
        "dummy_carrier = pd.get_dummies(data[\"CARRIER\"], prefix=\"CARRIER\")\n",
        "data = data.drop([\"CARRIER\"], axis=1)\n",
        "data = data.join(dummy_carrier)\n",
        "print(data.shape)"
      ],
      "execution_count": 73,
      "outputs": [
        {
          "output_type": "stream",
          "text": [
            "(2201, 18)\n"
          ],
          "name": "stdout"
        }
      ]
    },
    {
      "cell_type": "code",
      "metadata": {
        "colab": {
          "base_uri": "https://localhost:8080/"
        },
        "id": "2BeetErOzfkS",
        "outputId": "63ec1520-b02e-4fe9-8b01-417ee4a882ba"
      },
      "source": [
        "\n",
        "dummy_dest = pd.get_dummies(data[\"DEST\"], prefix=\"DEST\")\n",
        "data = data.drop([\"DEST\"], axis=1)\n",
        "data = data.join(dummy_dest)\n",
        "print(data.shape)"
      ],
      "execution_count": 74,
      "outputs": [
        {
          "output_type": "stream",
          "text": [
            "(2201, 20)\n"
          ],
          "name": "stdout"
        }
      ]
    },
    {
      "cell_type": "code",
      "metadata": {
        "colab": {
          "base_uri": "https://localhost:8080/"
        },
        "id": "jn8y5i_p0Exp",
        "outputId": "7bac7974-7c3c-471d-d8a7-bea73c9fd0a7"
      },
      "source": [
        "\n",
        "dummy_day_week = pd.get_dummies(data[\"DAY_WEEK\"], prefix=\"DAY_WEEK\")\n",
        "data = data.drop([\"DAY_WEEK\"], axis=1)\n",
        "print(data.shape)\n",
        "data = data.join(dummy_day_week)\n",
        "print(data.shape)"
      ],
      "execution_count": 75,
      "outputs": [
        {
          "output_type": "stream",
          "text": [
            "(2201, 19)\n",
            "(2201, 26)\n"
          ],
          "name": "stdout"
        }
      ]
    },
    {
      "cell_type": "code",
      "metadata": {
        "colab": {
          "base_uri": "https://localhost:8080/"
        },
        "id": "U4EC9s6u0E3X",
        "outputId": "8bddda81-8cc8-4092-f6ee-5ecba06e0157"
      },
      "source": [
        "dummy_origin = pd.get_dummies(data[\"ORIGIN\"], prefix=\"ORIGIN\")\n",
        "data = data.drop([\"ORIGIN\"], axis=1)\n",
        "print(data.shape)\n",
        "data = data.join(dummy_origin)\n",
        "print(data.shape)"
      ],
      "execution_count": 76,
      "outputs": [
        {
          "output_type": "stream",
          "text": [
            "(2201, 25)\n",
            "(2201, 28)\n"
          ],
          "name": "stdout"
        }
      ]
    },
    {
      "cell_type": "code",
      "metadata": {
        "colab": {
          "base_uri": "https://localhost:8080/"
        },
        "id": "4sSR0AJ41wWw",
        "outputId": "e2b83d00-8404-42b6-c361-8f06d71f21d1"
      },
      "source": [
        "dummy_distance = pd.get_dummies(data[\"DISTANCE\"], prefix=\"DISTANCE\")\n",
        "data = data.drop([\"DISTANCE\"], axis=1)\n",
        "print(data.shape)\n",
        "data = data.join(dummy_distance)\n",
        "print(data.shape)"
      ],
      "execution_count": 77,
      "outputs": [
        {
          "output_type": "stream",
          "text": [
            "(2201, 27)\n",
            "(2201, 34)\n"
          ],
          "name": "stdout"
        }
      ]
    },
    {
      "cell_type": "code",
      "metadata": {
        "colab": {
          "base_uri": "https://localhost:8080/"
        },
        "id": "NdA3_e872Oda",
        "outputId": "4cc28bc0-7e0b-4413-f814-855d826d3677"
      },
      "source": [
        "dummy_DAY_OF_MONTH = pd.get_dummies(data[\"DAY_OF_MONTH\"], prefix=\"DAY_OF_MONTH\")\n",
        "data = data.drop([\"DAY_OF_MONTH\"], axis=1)\n",
        "print(data.shape)\n",
        "data = data.join(dummy_DAY_OF_MONTH)\n",
        "print(data.shape)"
      ],
      "execution_count": 78,
      "outputs": [
        {
          "output_type": "stream",
          "text": [
            "(2201, 33)\n",
            "(2201, 64)\n"
          ],
          "name": "stdout"
        }
      ]
    },
    {
      "cell_type": "code",
      "metadata": {
        "id": "sYlmSQPf3uzt"
      },
      "source": [
        "data = data.drop([\"FL_DATE\"], axis = 1)\n"
      ],
      "execution_count": 79,
      "outputs": []
    },
    {
      "cell_type": "code",
      "metadata": {
        "colab": {
          "base_uri": "https://localhost:8080/",
          "height": 437
        },
        "id": "my0RIDCI4Pfy",
        "outputId": "6ef00d7f-2079-4ace-9e60-7cb3bd2236e3"
      },
      "source": [
        "data"
      ],
      "execution_count": 80,
      "outputs": [
        {
          "output_type": "execute_result",
          "data": {
            "text/html": [
              "<div>\n",
              "<style scoped>\n",
              "    .dataframe tbody tr th:only-of-type {\n",
              "        vertical-align: middle;\n",
              "    }\n",
              "\n",
              "    .dataframe tbody tr th {\n",
              "        vertical-align: top;\n",
              "    }\n",
              "\n",
              "    .dataframe thead th {\n",
              "        text-align: right;\n",
              "    }\n",
              "</style>\n",
              "<table border=\"1\" class=\"dataframe\">\n",
              "  <thead>\n",
              "    <tr style=\"text-align: right;\">\n",
              "      <th></th>\n",
              "      <th>CRS_DEP_TIME</th>\n",
              "      <th>DEP_TIME</th>\n",
              "      <th>Weather</th>\n",
              "      <th>Flight_Status</th>\n",
              "      <th>CARRIER_CO</th>\n",
              "      <th>CARRIER_DH</th>\n",
              "      <th>CARRIER_DL</th>\n",
              "      <th>CARRIER_MQ</th>\n",
              "      <th>CARRIER_OH</th>\n",
              "      <th>CARRIER_RU</th>\n",
              "      <th>CARRIER_UA</th>\n",
              "      <th>CARRIER_US</th>\n",
              "      <th>DEST_EWR</th>\n",
              "      <th>DEST_JFK</th>\n",
              "      <th>DEST_LGA</th>\n",
              "      <th>DAY_WEEK_1</th>\n",
              "      <th>DAY_WEEK_2</th>\n",
              "      <th>DAY_WEEK_3</th>\n",
              "      <th>DAY_WEEK_4</th>\n",
              "      <th>DAY_WEEK_5</th>\n",
              "      <th>DAY_WEEK_6</th>\n",
              "      <th>DAY_WEEK_7</th>\n",
              "      <th>ORIGIN_BWI</th>\n",
              "      <th>ORIGIN_DCA</th>\n",
              "      <th>ORIGIN_IAD</th>\n",
              "      <th>DISTANCE_169</th>\n",
              "      <th>DISTANCE_184</th>\n",
              "      <th>DISTANCE_199</th>\n",
              "      <th>DISTANCE_213</th>\n",
              "      <th>DISTANCE_214</th>\n",
              "      <th>DISTANCE_228</th>\n",
              "      <th>DISTANCE_229</th>\n",
              "      <th>DAY_OF_MONTH_1</th>\n",
              "      <th>DAY_OF_MONTH_2</th>\n",
              "      <th>DAY_OF_MONTH_3</th>\n",
              "      <th>DAY_OF_MONTH_4</th>\n",
              "      <th>DAY_OF_MONTH_5</th>\n",
              "      <th>DAY_OF_MONTH_6</th>\n",
              "      <th>DAY_OF_MONTH_7</th>\n",
              "      <th>DAY_OF_MONTH_8</th>\n",
              "      <th>DAY_OF_MONTH_9</th>\n",
              "      <th>DAY_OF_MONTH_10</th>\n",
              "      <th>DAY_OF_MONTH_11</th>\n",
              "      <th>DAY_OF_MONTH_12</th>\n",
              "      <th>DAY_OF_MONTH_13</th>\n",
              "      <th>DAY_OF_MONTH_14</th>\n",
              "      <th>DAY_OF_MONTH_15</th>\n",
              "      <th>DAY_OF_MONTH_16</th>\n",
              "      <th>DAY_OF_MONTH_17</th>\n",
              "      <th>DAY_OF_MONTH_18</th>\n",
              "      <th>DAY_OF_MONTH_19</th>\n",
              "      <th>DAY_OF_MONTH_20</th>\n",
              "      <th>DAY_OF_MONTH_21</th>\n",
              "      <th>DAY_OF_MONTH_22</th>\n",
              "      <th>DAY_OF_MONTH_23</th>\n",
              "      <th>DAY_OF_MONTH_24</th>\n",
              "      <th>DAY_OF_MONTH_25</th>\n",
              "      <th>DAY_OF_MONTH_26</th>\n",
              "      <th>DAY_OF_MONTH_27</th>\n",
              "      <th>DAY_OF_MONTH_28</th>\n",
              "      <th>DAY_OF_MONTH_29</th>\n",
              "      <th>DAY_OF_MONTH_30</th>\n",
              "      <th>DAY_OF_MONTH_31</th>\n",
              "    </tr>\n",
              "  </thead>\n",
              "  <tbody>\n",
              "    <tr>\n",
              "      <th>0</th>\n",
              "      <td>1455</td>\n",
              "      <td>1455</td>\n",
              "      <td>0</td>\n",
              "      <td>0</td>\n",
              "      <td>0</td>\n",
              "      <td>0</td>\n",
              "      <td>0</td>\n",
              "      <td>0</td>\n",
              "      <td>1</td>\n",
              "      <td>0</td>\n",
              "      <td>0</td>\n",
              "      <td>0</td>\n",
              "      <td>0</td>\n",
              "      <td>1</td>\n",
              "      <td>0</td>\n",
              "      <td>0</td>\n",
              "      <td>0</td>\n",
              "      <td>0</td>\n",
              "      <td>1</td>\n",
              "      <td>0</td>\n",
              "      <td>0</td>\n",
              "      <td>0</td>\n",
              "      <td>1</td>\n",
              "      <td>0</td>\n",
              "      <td>0</td>\n",
              "      <td>0</td>\n",
              "      <td>1</td>\n",
              "      <td>0</td>\n",
              "      <td>0</td>\n",
              "      <td>0</td>\n",
              "      <td>0</td>\n",
              "      <td>0</td>\n",
              "      <td>1</td>\n",
              "      <td>0</td>\n",
              "      <td>0</td>\n",
              "      <td>0</td>\n",
              "      <td>0</td>\n",
              "      <td>0</td>\n",
              "      <td>0</td>\n",
              "      <td>0</td>\n",
              "      <td>0</td>\n",
              "      <td>0</td>\n",
              "      <td>0</td>\n",
              "      <td>0</td>\n",
              "      <td>0</td>\n",
              "      <td>0</td>\n",
              "      <td>0</td>\n",
              "      <td>0</td>\n",
              "      <td>0</td>\n",
              "      <td>0</td>\n",
              "      <td>0</td>\n",
              "      <td>0</td>\n",
              "      <td>0</td>\n",
              "      <td>0</td>\n",
              "      <td>0</td>\n",
              "      <td>0</td>\n",
              "      <td>0</td>\n",
              "      <td>0</td>\n",
              "      <td>0</td>\n",
              "      <td>0</td>\n",
              "      <td>0</td>\n",
              "      <td>0</td>\n",
              "      <td>0</td>\n",
              "    </tr>\n",
              "    <tr>\n",
              "      <th>1</th>\n",
              "      <td>1640</td>\n",
              "      <td>1640</td>\n",
              "      <td>0</td>\n",
              "      <td>0</td>\n",
              "      <td>0</td>\n",
              "      <td>1</td>\n",
              "      <td>0</td>\n",
              "      <td>0</td>\n",
              "      <td>0</td>\n",
              "      <td>0</td>\n",
              "      <td>0</td>\n",
              "      <td>0</td>\n",
              "      <td>0</td>\n",
              "      <td>1</td>\n",
              "      <td>0</td>\n",
              "      <td>0</td>\n",
              "      <td>0</td>\n",
              "      <td>0</td>\n",
              "      <td>1</td>\n",
              "      <td>0</td>\n",
              "      <td>0</td>\n",
              "      <td>0</td>\n",
              "      <td>0</td>\n",
              "      <td>1</td>\n",
              "      <td>0</td>\n",
              "      <td>0</td>\n",
              "      <td>0</td>\n",
              "      <td>0</td>\n",
              "      <td>1</td>\n",
              "      <td>0</td>\n",
              "      <td>0</td>\n",
              "      <td>0</td>\n",
              "      <td>1</td>\n",
              "      <td>0</td>\n",
              "      <td>0</td>\n",
              "      <td>0</td>\n",
              "      <td>0</td>\n",
              "      <td>0</td>\n",
              "      <td>0</td>\n",
              "      <td>0</td>\n",
              "      <td>0</td>\n",
              "      <td>0</td>\n",
              "      <td>0</td>\n",
              "      <td>0</td>\n",
              "      <td>0</td>\n",
              "      <td>0</td>\n",
              "      <td>0</td>\n",
              "      <td>0</td>\n",
              "      <td>0</td>\n",
              "      <td>0</td>\n",
              "      <td>0</td>\n",
              "      <td>0</td>\n",
              "      <td>0</td>\n",
              "      <td>0</td>\n",
              "      <td>0</td>\n",
              "      <td>0</td>\n",
              "      <td>0</td>\n",
              "      <td>0</td>\n",
              "      <td>0</td>\n",
              "      <td>0</td>\n",
              "      <td>0</td>\n",
              "      <td>0</td>\n",
              "      <td>0</td>\n",
              "    </tr>\n",
              "    <tr>\n",
              "      <th>2</th>\n",
              "      <td>1245</td>\n",
              "      <td>1245</td>\n",
              "      <td>0</td>\n",
              "      <td>0</td>\n",
              "      <td>0</td>\n",
              "      <td>1</td>\n",
              "      <td>0</td>\n",
              "      <td>0</td>\n",
              "      <td>0</td>\n",
              "      <td>0</td>\n",
              "      <td>0</td>\n",
              "      <td>0</td>\n",
              "      <td>0</td>\n",
              "      <td>0</td>\n",
              "      <td>1</td>\n",
              "      <td>0</td>\n",
              "      <td>0</td>\n",
              "      <td>0</td>\n",
              "      <td>1</td>\n",
              "      <td>0</td>\n",
              "      <td>0</td>\n",
              "      <td>0</td>\n",
              "      <td>0</td>\n",
              "      <td>0</td>\n",
              "      <td>1</td>\n",
              "      <td>0</td>\n",
              "      <td>0</td>\n",
              "      <td>0</td>\n",
              "      <td>0</td>\n",
              "      <td>0</td>\n",
              "      <td>0</td>\n",
              "      <td>1</td>\n",
              "      <td>1</td>\n",
              "      <td>0</td>\n",
              "      <td>0</td>\n",
              "      <td>0</td>\n",
              "      <td>0</td>\n",
              "      <td>0</td>\n",
              "      <td>0</td>\n",
              "      <td>0</td>\n",
              "      <td>0</td>\n",
              "      <td>0</td>\n",
              "      <td>0</td>\n",
              "      <td>0</td>\n",
              "      <td>0</td>\n",
              "      <td>0</td>\n",
              "      <td>0</td>\n",
              "      <td>0</td>\n",
              "      <td>0</td>\n",
              "      <td>0</td>\n",
              "      <td>0</td>\n",
              "      <td>0</td>\n",
              "      <td>0</td>\n",
              "      <td>0</td>\n",
              "      <td>0</td>\n",
              "      <td>0</td>\n",
              "      <td>0</td>\n",
              "      <td>0</td>\n",
              "      <td>0</td>\n",
              "      <td>0</td>\n",
              "      <td>0</td>\n",
              "      <td>0</td>\n",
              "      <td>0</td>\n",
              "    </tr>\n",
              "    <tr>\n",
              "      <th>3</th>\n",
              "      <td>1715</td>\n",
              "      <td>1709</td>\n",
              "      <td>0</td>\n",
              "      <td>0</td>\n",
              "      <td>0</td>\n",
              "      <td>1</td>\n",
              "      <td>0</td>\n",
              "      <td>0</td>\n",
              "      <td>0</td>\n",
              "      <td>0</td>\n",
              "      <td>0</td>\n",
              "      <td>0</td>\n",
              "      <td>0</td>\n",
              "      <td>0</td>\n",
              "      <td>1</td>\n",
              "      <td>0</td>\n",
              "      <td>0</td>\n",
              "      <td>0</td>\n",
              "      <td>1</td>\n",
              "      <td>0</td>\n",
              "      <td>0</td>\n",
              "      <td>0</td>\n",
              "      <td>0</td>\n",
              "      <td>0</td>\n",
              "      <td>1</td>\n",
              "      <td>0</td>\n",
              "      <td>0</td>\n",
              "      <td>0</td>\n",
              "      <td>0</td>\n",
              "      <td>0</td>\n",
              "      <td>0</td>\n",
              "      <td>1</td>\n",
              "      <td>1</td>\n",
              "      <td>0</td>\n",
              "      <td>0</td>\n",
              "      <td>0</td>\n",
              "      <td>0</td>\n",
              "      <td>0</td>\n",
              "      <td>0</td>\n",
              "      <td>0</td>\n",
              "      <td>0</td>\n",
              "      <td>0</td>\n",
              "      <td>0</td>\n",
              "      <td>0</td>\n",
              "      <td>0</td>\n",
              "      <td>0</td>\n",
              "      <td>0</td>\n",
              "      <td>0</td>\n",
              "      <td>0</td>\n",
              "      <td>0</td>\n",
              "      <td>0</td>\n",
              "      <td>0</td>\n",
              "      <td>0</td>\n",
              "      <td>0</td>\n",
              "      <td>0</td>\n",
              "      <td>0</td>\n",
              "      <td>0</td>\n",
              "      <td>0</td>\n",
              "      <td>0</td>\n",
              "      <td>0</td>\n",
              "      <td>0</td>\n",
              "      <td>0</td>\n",
              "      <td>0</td>\n",
              "    </tr>\n",
              "    <tr>\n",
              "      <th>4</th>\n",
              "      <td>1039</td>\n",
              "      <td>1035</td>\n",
              "      <td>0</td>\n",
              "      <td>0</td>\n",
              "      <td>0</td>\n",
              "      <td>1</td>\n",
              "      <td>0</td>\n",
              "      <td>0</td>\n",
              "      <td>0</td>\n",
              "      <td>0</td>\n",
              "      <td>0</td>\n",
              "      <td>0</td>\n",
              "      <td>0</td>\n",
              "      <td>0</td>\n",
              "      <td>1</td>\n",
              "      <td>0</td>\n",
              "      <td>0</td>\n",
              "      <td>0</td>\n",
              "      <td>1</td>\n",
              "      <td>0</td>\n",
              "      <td>0</td>\n",
              "      <td>0</td>\n",
              "      <td>0</td>\n",
              "      <td>0</td>\n",
              "      <td>1</td>\n",
              "      <td>0</td>\n",
              "      <td>0</td>\n",
              "      <td>0</td>\n",
              "      <td>0</td>\n",
              "      <td>0</td>\n",
              "      <td>0</td>\n",
              "      <td>1</td>\n",
              "      <td>1</td>\n",
              "      <td>0</td>\n",
              "      <td>0</td>\n",
              "      <td>0</td>\n",
              "      <td>0</td>\n",
              "      <td>0</td>\n",
              "      <td>0</td>\n",
              "      <td>0</td>\n",
              "      <td>0</td>\n",
              "      <td>0</td>\n",
              "      <td>0</td>\n",
              "      <td>0</td>\n",
              "      <td>0</td>\n",
              "      <td>0</td>\n",
              "      <td>0</td>\n",
              "      <td>0</td>\n",
              "      <td>0</td>\n",
              "      <td>0</td>\n",
              "      <td>0</td>\n",
              "      <td>0</td>\n",
              "      <td>0</td>\n",
              "      <td>0</td>\n",
              "      <td>0</td>\n",
              "      <td>0</td>\n",
              "      <td>0</td>\n",
              "      <td>0</td>\n",
              "      <td>0</td>\n",
              "      <td>0</td>\n",
              "      <td>0</td>\n",
              "      <td>0</td>\n",
              "      <td>0</td>\n",
              "    </tr>\n",
              "    <tr>\n",
              "      <th>...</th>\n",
              "      <td>...</td>\n",
              "      <td>...</td>\n",
              "      <td>...</td>\n",
              "      <td>...</td>\n",
              "      <td>...</td>\n",
              "      <td>...</td>\n",
              "      <td>...</td>\n",
              "      <td>...</td>\n",
              "      <td>...</td>\n",
              "      <td>...</td>\n",
              "      <td>...</td>\n",
              "      <td>...</td>\n",
              "      <td>...</td>\n",
              "      <td>...</td>\n",
              "      <td>...</td>\n",
              "      <td>...</td>\n",
              "      <td>...</td>\n",
              "      <td>...</td>\n",
              "      <td>...</td>\n",
              "      <td>...</td>\n",
              "      <td>...</td>\n",
              "      <td>...</td>\n",
              "      <td>...</td>\n",
              "      <td>...</td>\n",
              "      <td>...</td>\n",
              "      <td>...</td>\n",
              "      <td>...</td>\n",
              "      <td>...</td>\n",
              "      <td>...</td>\n",
              "      <td>...</td>\n",
              "      <td>...</td>\n",
              "      <td>...</td>\n",
              "      <td>...</td>\n",
              "      <td>...</td>\n",
              "      <td>...</td>\n",
              "      <td>...</td>\n",
              "      <td>...</td>\n",
              "      <td>...</td>\n",
              "      <td>...</td>\n",
              "      <td>...</td>\n",
              "      <td>...</td>\n",
              "      <td>...</td>\n",
              "      <td>...</td>\n",
              "      <td>...</td>\n",
              "      <td>...</td>\n",
              "      <td>...</td>\n",
              "      <td>...</td>\n",
              "      <td>...</td>\n",
              "      <td>...</td>\n",
              "      <td>...</td>\n",
              "      <td>...</td>\n",
              "      <td>...</td>\n",
              "      <td>...</td>\n",
              "      <td>...</td>\n",
              "      <td>...</td>\n",
              "      <td>...</td>\n",
              "      <td>...</td>\n",
              "      <td>...</td>\n",
              "      <td>...</td>\n",
              "      <td>...</td>\n",
              "      <td>...</td>\n",
              "      <td>...</td>\n",
              "      <td>...</td>\n",
              "    </tr>\n",
              "    <tr>\n",
              "      <th>2196</th>\n",
              "      <td>645</td>\n",
              "      <td>644</td>\n",
              "      <td>0</td>\n",
              "      <td>0</td>\n",
              "      <td>0</td>\n",
              "      <td>0</td>\n",
              "      <td>0</td>\n",
              "      <td>0</td>\n",
              "      <td>0</td>\n",
              "      <td>1</td>\n",
              "      <td>0</td>\n",
              "      <td>0</td>\n",
              "      <td>1</td>\n",
              "      <td>0</td>\n",
              "      <td>0</td>\n",
              "      <td>0</td>\n",
              "      <td>0</td>\n",
              "      <td>0</td>\n",
              "      <td>0</td>\n",
              "      <td>0</td>\n",
              "      <td>1</td>\n",
              "      <td>0</td>\n",
              "      <td>0</td>\n",
              "      <td>1</td>\n",
              "      <td>0</td>\n",
              "      <td>0</td>\n",
              "      <td>0</td>\n",
              "      <td>1</td>\n",
              "      <td>0</td>\n",
              "      <td>0</td>\n",
              "      <td>0</td>\n",
              "      <td>0</td>\n",
              "      <td>0</td>\n",
              "      <td>0</td>\n",
              "      <td>0</td>\n",
              "      <td>0</td>\n",
              "      <td>0</td>\n",
              "      <td>0</td>\n",
              "      <td>0</td>\n",
              "      <td>0</td>\n",
              "      <td>0</td>\n",
              "      <td>0</td>\n",
              "      <td>0</td>\n",
              "      <td>0</td>\n",
              "      <td>0</td>\n",
              "      <td>0</td>\n",
              "      <td>0</td>\n",
              "      <td>0</td>\n",
              "      <td>0</td>\n",
              "      <td>0</td>\n",
              "      <td>0</td>\n",
              "      <td>0</td>\n",
              "      <td>0</td>\n",
              "      <td>0</td>\n",
              "      <td>0</td>\n",
              "      <td>0</td>\n",
              "      <td>0</td>\n",
              "      <td>0</td>\n",
              "      <td>0</td>\n",
              "      <td>0</td>\n",
              "      <td>0</td>\n",
              "      <td>0</td>\n",
              "      <td>1</td>\n",
              "    </tr>\n",
              "    <tr>\n",
              "      <th>2197</th>\n",
              "      <td>1700</td>\n",
              "      <td>1653</td>\n",
              "      <td>0</td>\n",
              "      <td>0</td>\n",
              "      <td>0</td>\n",
              "      <td>0</td>\n",
              "      <td>0</td>\n",
              "      <td>0</td>\n",
              "      <td>0</td>\n",
              "      <td>1</td>\n",
              "      <td>0</td>\n",
              "      <td>0</td>\n",
              "      <td>1</td>\n",
              "      <td>0</td>\n",
              "      <td>0</td>\n",
              "      <td>0</td>\n",
              "      <td>0</td>\n",
              "      <td>0</td>\n",
              "      <td>0</td>\n",
              "      <td>0</td>\n",
              "      <td>1</td>\n",
              "      <td>0</td>\n",
              "      <td>0</td>\n",
              "      <td>0</td>\n",
              "      <td>1</td>\n",
              "      <td>0</td>\n",
              "      <td>0</td>\n",
              "      <td>0</td>\n",
              "      <td>1</td>\n",
              "      <td>0</td>\n",
              "      <td>0</td>\n",
              "      <td>0</td>\n",
              "      <td>0</td>\n",
              "      <td>0</td>\n",
              "      <td>0</td>\n",
              "      <td>0</td>\n",
              "      <td>0</td>\n",
              "      <td>0</td>\n",
              "      <td>0</td>\n",
              "      <td>0</td>\n",
              "      <td>0</td>\n",
              "      <td>0</td>\n",
              "      <td>0</td>\n",
              "      <td>0</td>\n",
              "      <td>0</td>\n",
              "      <td>0</td>\n",
              "      <td>0</td>\n",
              "      <td>0</td>\n",
              "      <td>0</td>\n",
              "      <td>0</td>\n",
              "      <td>0</td>\n",
              "      <td>0</td>\n",
              "      <td>0</td>\n",
              "      <td>0</td>\n",
              "      <td>0</td>\n",
              "      <td>0</td>\n",
              "      <td>0</td>\n",
              "      <td>0</td>\n",
              "      <td>0</td>\n",
              "      <td>0</td>\n",
              "      <td>0</td>\n",
              "      <td>0</td>\n",
              "      <td>1</td>\n",
              "    </tr>\n",
              "    <tr>\n",
              "      <th>2198</th>\n",
              "      <td>1600</td>\n",
              "      <td>1558</td>\n",
              "      <td>0</td>\n",
              "      <td>0</td>\n",
              "      <td>0</td>\n",
              "      <td>0</td>\n",
              "      <td>0</td>\n",
              "      <td>0</td>\n",
              "      <td>0</td>\n",
              "      <td>1</td>\n",
              "      <td>0</td>\n",
              "      <td>0</td>\n",
              "      <td>1</td>\n",
              "      <td>0</td>\n",
              "      <td>0</td>\n",
              "      <td>0</td>\n",
              "      <td>0</td>\n",
              "      <td>0</td>\n",
              "      <td>0</td>\n",
              "      <td>0</td>\n",
              "      <td>1</td>\n",
              "      <td>0</td>\n",
              "      <td>0</td>\n",
              "      <td>1</td>\n",
              "      <td>0</td>\n",
              "      <td>0</td>\n",
              "      <td>0</td>\n",
              "      <td>1</td>\n",
              "      <td>0</td>\n",
              "      <td>0</td>\n",
              "      <td>0</td>\n",
              "      <td>0</td>\n",
              "      <td>0</td>\n",
              "      <td>0</td>\n",
              "      <td>0</td>\n",
              "      <td>0</td>\n",
              "      <td>0</td>\n",
              "      <td>0</td>\n",
              "      <td>0</td>\n",
              "      <td>0</td>\n",
              "      <td>0</td>\n",
              "      <td>0</td>\n",
              "      <td>0</td>\n",
              "      <td>0</td>\n",
              "      <td>0</td>\n",
              "      <td>0</td>\n",
              "      <td>0</td>\n",
              "      <td>0</td>\n",
              "      <td>0</td>\n",
              "      <td>0</td>\n",
              "      <td>0</td>\n",
              "      <td>0</td>\n",
              "      <td>0</td>\n",
              "      <td>0</td>\n",
              "      <td>0</td>\n",
              "      <td>0</td>\n",
              "      <td>0</td>\n",
              "      <td>0</td>\n",
              "      <td>0</td>\n",
              "      <td>0</td>\n",
              "      <td>0</td>\n",
              "      <td>0</td>\n",
              "      <td>1</td>\n",
              "    </tr>\n",
              "    <tr>\n",
              "      <th>2199</th>\n",
              "      <td>1359</td>\n",
              "      <td>1403</td>\n",
              "      <td>0</td>\n",
              "      <td>0</td>\n",
              "      <td>0</td>\n",
              "      <td>0</td>\n",
              "      <td>0</td>\n",
              "      <td>0</td>\n",
              "      <td>0</td>\n",
              "      <td>1</td>\n",
              "      <td>0</td>\n",
              "      <td>0</td>\n",
              "      <td>1</td>\n",
              "      <td>0</td>\n",
              "      <td>0</td>\n",
              "      <td>0</td>\n",
              "      <td>0</td>\n",
              "      <td>0</td>\n",
              "      <td>0</td>\n",
              "      <td>0</td>\n",
              "      <td>1</td>\n",
              "      <td>0</td>\n",
              "      <td>0</td>\n",
              "      <td>1</td>\n",
              "      <td>0</td>\n",
              "      <td>0</td>\n",
              "      <td>0</td>\n",
              "      <td>1</td>\n",
              "      <td>0</td>\n",
              "      <td>0</td>\n",
              "      <td>0</td>\n",
              "      <td>0</td>\n",
              "      <td>0</td>\n",
              "      <td>0</td>\n",
              "      <td>0</td>\n",
              "      <td>0</td>\n",
              "      <td>0</td>\n",
              "      <td>0</td>\n",
              "      <td>0</td>\n",
              "      <td>0</td>\n",
              "      <td>0</td>\n",
              "      <td>0</td>\n",
              "      <td>0</td>\n",
              "      <td>0</td>\n",
              "      <td>0</td>\n",
              "      <td>0</td>\n",
              "      <td>0</td>\n",
              "      <td>0</td>\n",
              "      <td>0</td>\n",
              "      <td>0</td>\n",
              "      <td>0</td>\n",
              "      <td>0</td>\n",
              "      <td>0</td>\n",
              "      <td>0</td>\n",
              "      <td>0</td>\n",
              "      <td>0</td>\n",
              "      <td>0</td>\n",
              "      <td>0</td>\n",
              "      <td>0</td>\n",
              "      <td>0</td>\n",
              "      <td>0</td>\n",
              "      <td>0</td>\n",
              "      <td>1</td>\n",
              "    </tr>\n",
              "    <tr>\n",
              "      <th>2200</th>\n",
              "      <td>1730</td>\n",
              "      <td>1736</td>\n",
              "      <td>0</td>\n",
              "      <td>0</td>\n",
              "      <td>0</td>\n",
              "      <td>0</td>\n",
              "      <td>0</td>\n",
              "      <td>0</td>\n",
              "      <td>0</td>\n",
              "      <td>1</td>\n",
              "      <td>0</td>\n",
              "      <td>0</td>\n",
              "      <td>1</td>\n",
              "      <td>0</td>\n",
              "      <td>0</td>\n",
              "      <td>0</td>\n",
              "      <td>0</td>\n",
              "      <td>0</td>\n",
              "      <td>0</td>\n",
              "      <td>0</td>\n",
              "      <td>1</td>\n",
              "      <td>0</td>\n",
              "      <td>0</td>\n",
              "      <td>1</td>\n",
              "      <td>0</td>\n",
              "      <td>0</td>\n",
              "      <td>0</td>\n",
              "      <td>1</td>\n",
              "      <td>0</td>\n",
              "      <td>0</td>\n",
              "      <td>0</td>\n",
              "      <td>0</td>\n",
              "      <td>0</td>\n",
              "      <td>0</td>\n",
              "      <td>0</td>\n",
              "      <td>0</td>\n",
              "      <td>0</td>\n",
              "      <td>0</td>\n",
              "      <td>0</td>\n",
              "      <td>0</td>\n",
              "      <td>0</td>\n",
              "      <td>0</td>\n",
              "      <td>0</td>\n",
              "      <td>0</td>\n",
              "      <td>0</td>\n",
              "      <td>0</td>\n",
              "      <td>0</td>\n",
              "      <td>0</td>\n",
              "      <td>0</td>\n",
              "      <td>0</td>\n",
              "      <td>0</td>\n",
              "      <td>0</td>\n",
              "      <td>0</td>\n",
              "      <td>0</td>\n",
              "      <td>0</td>\n",
              "      <td>0</td>\n",
              "      <td>0</td>\n",
              "      <td>0</td>\n",
              "      <td>0</td>\n",
              "      <td>0</td>\n",
              "      <td>0</td>\n",
              "      <td>0</td>\n",
              "      <td>1</td>\n",
              "    </tr>\n",
              "  </tbody>\n",
              "</table>\n",
              "<p>2201 rows × 63 columns</p>\n",
              "</div>"
            ],
            "text/plain": [
              "      CRS_DEP_TIME  DEP_TIME  ...  DAY_OF_MONTH_30  DAY_OF_MONTH_31\n",
              "0             1455      1455  ...                0                0\n",
              "1             1640      1640  ...                0                0\n",
              "2             1245      1245  ...                0                0\n",
              "3             1715      1709  ...                0                0\n",
              "4             1039      1035  ...                0                0\n",
              "...            ...       ...  ...              ...              ...\n",
              "2196           645       644  ...                0                1\n",
              "2197          1700      1653  ...                0                1\n",
              "2198          1600      1558  ...                0                1\n",
              "2199          1359      1403  ...                0                1\n",
              "2200          1730      1736  ...                0                1\n",
              "\n",
              "[2201 rows x 63 columns]"
            ]
          },
          "metadata": {
            "tags": []
          },
          "execution_count": 80
        }
      ]
    },
    {
      "cell_type": "code",
      "metadata": {
        "id": "u3hLtZIYRXGv"
      },
      "source": [
        "from sklearn.datasets import make_classification\n",
        "from sklearn.linear_model import LogisticRegression\n",
        "from sklearn.model_selection import train_test_split\n",
        "from sklearn.pipeline import make_pipeline\n",
        "from sklearn.preprocessing import StandardScaler\n",
        "from sklearn.feature_selection import RFE"
      ],
      "execution_count": 81,
      "outputs": []
    },
    {
      "cell_type": "code",
      "metadata": {
        "colab": {
          "base_uri": "https://localhost:8080/",
          "height": 307
        },
        "id": "Dg9vyaWT9lPZ",
        "outputId": "e7721be3-44be-4285-ba0c-16b833837eeb"
      },
      "source": [
        "## creating X and Y matrices\n",
        "X = data.loc[:, data.columns != 'Flight_Status']\n",
        "y = data.loc[:, data.columns == 'Flight_Status']\n",
        "## splitting the data\n",
        "X_train, X_test, y_train, y_test = train_test_split(X, y, shuffle=True, random_state=1, test_size=0.40)\n",
        "print(\"Size of train set: \",len(X_train))\n",
        "print(\"Size of test set: \", len(X_test))\n",
        "print(\"Sample training data:\")\n",
        "pd.concat((X_train,y_train),axis=1).head(6)"
      ],
      "execution_count": 82,
      "outputs": [
        {
          "output_type": "stream",
          "text": [
            "Size of train set:  1320\n",
            "Size of test set:  881\n",
            "Sample training data:\n"
          ],
          "name": "stdout"
        },
        {
          "output_type": "execute_result",
          "data": {
            "text/html": [
              "<div>\n",
              "<style scoped>\n",
              "    .dataframe tbody tr th:only-of-type {\n",
              "        vertical-align: middle;\n",
              "    }\n",
              "\n",
              "    .dataframe tbody tr th {\n",
              "        vertical-align: top;\n",
              "    }\n",
              "\n",
              "    .dataframe thead th {\n",
              "        text-align: right;\n",
              "    }\n",
              "</style>\n",
              "<table border=\"1\" class=\"dataframe\">\n",
              "  <thead>\n",
              "    <tr style=\"text-align: right;\">\n",
              "      <th></th>\n",
              "      <th>CRS_DEP_TIME</th>\n",
              "      <th>DEP_TIME</th>\n",
              "      <th>Weather</th>\n",
              "      <th>CARRIER_CO</th>\n",
              "      <th>CARRIER_DH</th>\n",
              "      <th>CARRIER_DL</th>\n",
              "      <th>CARRIER_MQ</th>\n",
              "      <th>CARRIER_OH</th>\n",
              "      <th>CARRIER_RU</th>\n",
              "      <th>CARRIER_UA</th>\n",
              "      <th>CARRIER_US</th>\n",
              "      <th>DEST_EWR</th>\n",
              "      <th>DEST_JFK</th>\n",
              "      <th>DEST_LGA</th>\n",
              "      <th>DAY_WEEK_1</th>\n",
              "      <th>DAY_WEEK_2</th>\n",
              "      <th>DAY_WEEK_3</th>\n",
              "      <th>DAY_WEEK_4</th>\n",
              "      <th>DAY_WEEK_5</th>\n",
              "      <th>DAY_WEEK_6</th>\n",
              "      <th>DAY_WEEK_7</th>\n",
              "      <th>ORIGIN_BWI</th>\n",
              "      <th>ORIGIN_DCA</th>\n",
              "      <th>ORIGIN_IAD</th>\n",
              "      <th>DISTANCE_169</th>\n",
              "      <th>DISTANCE_184</th>\n",
              "      <th>DISTANCE_199</th>\n",
              "      <th>DISTANCE_213</th>\n",
              "      <th>DISTANCE_214</th>\n",
              "      <th>DISTANCE_228</th>\n",
              "      <th>DISTANCE_229</th>\n",
              "      <th>DAY_OF_MONTH_1</th>\n",
              "      <th>DAY_OF_MONTH_2</th>\n",
              "      <th>DAY_OF_MONTH_3</th>\n",
              "      <th>DAY_OF_MONTH_4</th>\n",
              "      <th>DAY_OF_MONTH_5</th>\n",
              "      <th>DAY_OF_MONTH_6</th>\n",
              "      <th>DAY_OF_MONTH_7</th>\n",
              "      <th>DAY_OF_MONTH_8</th>\n",
              "      <th>DAY_OF_MONTH_9</th>\n",
              "      <th>DAY_OF_MONTH_10</th>\n",
              "      <th>DAY_OF_MONTH_11</th>\n",
              "      <th>DAY_OF_MONTH_12</th>\n",
              "      <th>DAY_OF_MONTH_13</th>\n",
              "      <th>DAY_OF_MONTH_14</th>\n",
              "      <th>DAY_OF_MONTH_15</th>\n",
              "      <th>DAY_OF_MONTH_16</th>\n",
              "      <th>DAY_OF_MONTH_17</th>\n",
              "      <th>DAY_OF_MONTH_18</th>\n",
              "      <th>DAY_OF_MONTH_19</th>\n",
              "      <th>DAY_OF_MONTH_20</th>\n",
              "      <th>DAY_OF_MONTH_21</th>\n",
              "      <th>DAY_OF_MONTH_22</th>\n",
              "      <th>DAY_OF_MONTH_23</th>\n",
              "      <th>DAY_OF_MONTH_24</th>\n",
              "      <th>DAY_OF_MONTH_25</th>\n",
              "      <th>DAY_OF_MONTH_26</th>\n",
              "      <th>DAY_OF_MONTH_27</th>\n",
              "      <th>DAY_OF_MONTH_28</th>\n",
              "      <th>DAY_OF_MONTH_29</th>\n",
              "      <th>DAY_OF_MONTH_30</th>\n",
              "      <th>DAY_OF_MONTH_31</th>\n",
              "      <th>Flight_Status</th>\n",
              "    </tr>\n",
              "  </thead>\n",
              "  <tbody>\n",
              "    <tr>\n",
              "      <th>1215</th>\n",
              "      <td>2120</td>\n",
              "      <td>2110</td>\n",
              "      <td>0</td>\n",
              "      <td>0</td>\n",
              "      <td>1</td>\n",
              "      <td>0</td>\n",
              "      <td>0</td>\n",
              "      <td>0</td>\n",
              "      <td>0</td>\n",
              "      <td>0</td>\n",
              "      <td>0</td>\n",
              "      <td>0</td>\n",
              "      <td>0</td>\n",
              "      <td>1</td>\n",
              "      <td>0</td>\n",
              "      <td>0</td>\n",
              "      <td>0</td>\n",
              "      <td>0</td>\n",
              "      <td>0</td>\n",
              "      <td>0</td>\n",
              "      <td>1</td>\n",
              "      <td>0</td>\n",
              "      <td>0</td>\n",
              "      <td>1</td>\n",
              "      <td>0</td>\n",
              "      <td>0</td>\n",
              "      <td>0</td>\n",
              "      <td>0</td>\n",
              "      <td>0</td>\n",
              "      <td>0</td>\n",
              "      <td>1</td>\n",
              "      <td>0</td>\n",
              "      <td>0</td>\n",
              "      <td>0</td>\n",
              "      <td>0</td>\n",
              "      <td>0</td>\n",
              "      <td>0</td>\n",
              "      <td>0</td>\n",
              "      <td>0</td>\n",
              "      <td>0</td>\n",
              "      <td>0</td>\n",
              "      <td>0</td>\n",
              "      <td>0</td>\n",
              "      <td>0</td>\n",
              "      <td>0</td>\n",
              "      <td>0</td>\n",
              "      <td>0</td>\n",
              "      <td>0</td>\n",
              "      <td>1</td>\n",
              "      <td>0</td>\n",
              "      <td>0</td>\n",
              "      <td>0</td>\n",
              "      <td>0</td>\n",
              "      <td>0</td>\n",
              "      <td>0</td>\n",
              "      <td>0</td>\n",
              "      <td>0</td>\n",
              "      <td>0</td>\n",
              "      <td>0</td>\n",
              "      <td>0</td>\n",
              "      <td>0</td>\n",
              "      <td>0</td>\n",
              "      <td>0</td>\n",
              "    </tr>\n",
              "    <tr>\n",
              "      <th>1476</th>\n",
              "      <td>700</td>\n",
              "      <td>659</td>\n",
              "      <td>0</td>\n",
              "      <td>0</td>\n",
              "      <td>0</td>\n",
              "      <td>0</td>\n",
              "      <td>0</td>\n",
              "      <td>0</td>\n",
              "      <td>0</td>\n",
              "      <td>0</td>\n",
              "      <td>1</td>\n",
              "      <td>0</td>\n",
              "      <td>0</td>\n",
              "      <td>1</td>\n",
              "      <td>0</td>\n",
              "      <td>0</td>\n",
              "      <td>1</td>\n",
              "      <td>0</td>\n",
              "      <td>0</td>\n",
              "      <td>0</td>\n",
              "      <td>0</td>\n",
              "      <td>0</td>\n",
              "      <td>1</td>\n",
              "      <td>0</td>\n",
              "      <td>0</td>\n",
              "      <td>0</td>\n",
              "      <td>0</td>\n",
              "      <td>0</td>\n",
              "      <td>1</td>\n",
              "      <td>0</td>\n",
              "      <td>0</td>\n",
              "      <td>0</td>\n",
              "      <td>0</td>\n",
              "      <td>0</td>\n",
              "      <td>0</td>\n",
              "      <td>0</td>\n",
              "      <td>0</td>\n",
              "      <td>0</td>\n",
              "      <td>0</td>\n",
              "      <td>0</td>\n",
              "      <td>0</td>\n",
              "      <td>0</td>\n",
              "      <td>0</td>\n",
              "      <td>0</td>\n",
              "      <td>0</td>\n",
              "      <td>0</td>\n",
              "      <td>0</td>\n",
              "      <td>0</td>\n",
              "      <td>0</td>\n",
              "      <td>0</td>\n",
              "      <td>0</td>\n",
              "      <td>1</td>\n",
              "      <td>0</td>\n",
              "      <td>0</td>\n",
              "      <td>0</td>\n",
              "      <td>0</td>\n",
              "      <td>0</td>\n",
              "      <td>0</td>\n",
              "      <td>0</td>\n",
              "      <td>0</td>\n",
              "      <td>0</td>\n",
              "      <td>0</td>\n",
              "      <td>0</td>\n",
              "    </tr>\n",
              "    <tr>\n",
              "      <th>1897</th>\n",
              "      <td>900</td>\n",
              "      <td>858</td>\n",
              "      <td>0</td>\n",
              "      <td>0</td>\n",
              "      <td>0</td>\n",
              "      <td>0</td>\n",
              "      <td>0</td>\n",
              "      <td>0</td>\n",
              "      <td>0</td>\n",
              "      <td>0</td>\n",
              "      <td>1</td>\n",
              "      <td>0</td>\n",
              "      <td>0</td>\n",
              "      <td>1</td>\n",
              "      <td>0</td>\n",
              "      <td>1</td>\n",
              "      <td>0</td>\n",
              "      <td>0</td>\n",
              "      <td>0</td>\n",
              "      <td>0</td>\n",
              "      <td>0</td>\n",
              "      <td>0</td>\n",
              "      <td>1</td>\n",
              "      <td>0</td>\n",
              "      <td>0</td>\n",
              "      <td>0</td>\n",
              "      <td>0</td>\n",
              "      <td>0</td>\n",
              "      <td>1</td>\n",
              "      <td>0</td>\n",
              "      <td>0</td>\n",
              "      <td>0</td>\n",
              "      <td>0</td>\n",
              "      <td>0</td>\n",
              "      <td>0</td>\n",
              "      <td>0</td>\n",
              "      <td>0</td>\n",
              "      <td>0</td>\n",
              "      <td>0</td>\n",
              "      <td>0</td>\n",
              "      <td>0</td>\n",
              "      <td>0</td>\n",
              "      <td>0</td>\n",
              "      <td>0</td>\n",
              "      <td>0</td>\n",
              "      <td>0</td>\n",
              "      <td>0</td>\n",
              "      <td>0</td>\n",
              "      <td>0</td>\n",
              "      <td>0</td>\n",
              "      <td>0</td>\n",
              "      <td>0</td>\n",
              "      <td>0</td>\n",
              "      <td>0</td>\n",
              "      <td>0</td>\n",
              "      <td>0</td>\n",
              "      <td>0</td>\n",
              "      <td>1</td>\n",
              "      <td>0</td>\n",
              "      <td>0</td>\n",
              "      <td>0</td>\n",
              "      <td>0</td>\n",
              "      <td>0</td>\n",
              "    </tr>\n",
              "    <tr>\n",
              "      <th>83</th>\n",
              "      <td>1300</td>\n",
              "      <td>1258</td>\n",
              "      <td>0</td>\n",
              "      <td>0</td>\n",
              "      <td>0</td>\n",
              "      <td>0</td>\n",
              "      <td>0</td>\n",
              "      <td>0</td>\n",
              "      <td>0</td>\n",
              "      <td>0</td>\n",
              "      <td>1</td>\n",
              "      <td>0</td>\n",
              "      <td>0</td>\n",
              "      <td>1</td>\n",
              "      <td>0</td>\n",
              "      <td>0</td>\n",
              "      <td>0</td>\n",
              "      <td>0</td>\n",
              "      <td>1</td>\n",
              "      <td>0</td>\n",
              "      <td>0</td>\n",
              "      <td>0</td>\n",
              "      <td>1</td>\n",
              "      <td>0</td>\n",
              "      <td>0</td>\n",
              "      <td>0</td>\n",
              "      <td>0</td>\n",
              "      <td>0</td>\n",
              "      <td>1</td>\n",
              "      <td>0</td>\n",
              "      <td>0</td>\n",
              "      <td>0</td>\n",
              "      <td>1</td>\n",
              "      <td>0</td>\n",
              "      <td>0</td>\n",
              "      <td>0</td>\n",
              "      <td>0</td>\n",
              "      <td>0</td>\n",
              "      <td>0</td>\n",
              "      <td>0</td>\n",
              "      <td>0</td>\n",
              "      <td>0</td>\n",
              "      <td>0</td>\n",
              "      <td>0</td>\n",
              "      <td>0</td>\n",
              "      <td>0</td>\n",
              "      <td>0</td>\n",
              "      <td>0</td>\n",
              "      <td>0</td>\n",
              "      <td>0</td>\n",
              "      <td>0</td>\n",
              "      <td>0</td>\n",
              "      <td>0</td>\n",
              "      <td>0</td>\n",
              "      <td>0</td>\n",
              "      <td>0</td>\n",
              "      <td>0</td>\n",
              "      <td>0</td>\n",
              "      <td>0</td>\n",
              "      <td>0</td>\n",
              "      <td>0</td>\n",
              "      <td>0</td>\n",
              "      <td>0</td>\n",
              "    </tr>\n",
              "    <tr>\n",
              "      <th>1172</th>\n",
              "      <td>1455</td>\n",
              "      <td>1509</td>\n",
              "      <td>0</td>\n",
              "      <td>0</td>\n",
              "      <td>0</td>\n",
              "      <td>1</td>\n",
              "      <td>0</td>\n",
              "      <td>0</td>\n",
              "      <td>0</td>\n",
              "      <td>0</td>\n",
              "      <td>0</td>\n",
              "      <td>0</td>\n",
              "      <td>1</td>\n",
              "      <td>0</td>\n",
              "      <td>0</td>\n",
              "      <td>0</td>\n",
              "      <td>0</td>\n",
              "      <td>0</td>\n",
              "      <td>0</td>\n",
              "      <td>1</td>\n",
              "      <td>0</td>\n",
              "      <td>0</td>\n",
              "      <td>1</td>\n",
              "      <td>0</td>\n",
              "      <td>0</td>\n",
              "      <td>0</td>\n",
              "      <td>0</td>\n",
              "      <td>1</td>\n",
              "      <td>0</td>\n",
              "      <td>0</td>\n",
              "      <td>0</td>\n",
              "      <td>0</td>\n",
              "      <td>0</td>\n",
              "      <td>0</td>\n",
              "      <td>0</td>\n",
              "      <td>0</td>\n",
              "      <td>0</td>\n",
              "      <td>0</td>\n",
              "      <td>0</td>\n",
              "      <td>0</td>\n",
              "      <td>0</td>\n",
              "      <td>0</td>\n",
              "      <td>0</td>\n",
              "      <td>0</td>\n",
              "      <td>0</td>\n",
              "      <td>0</td>\n",
              "      <td>0</td>\n",
              "      <td>1</td>\n",
              "      <td>0</td>\n",
              "      <td>0</td>\n",
              "      <td>0</td>\n",
              "      <td>0</td>\n",
              "      <td>0</td>\n",
              "      <td>0</td>\n",
              "      <td>0</td>\n",
              "      <td>0</td>\n",
              "      <td>0</td>\n",
              "      <td>0</td>\n",
              "      <td>0</td>\n",
              "      <td>0</td>\n",
              "      <td>0</td>\n",
              "      <td>0</td>\n",
              "      <td>1</td>\n",
              "    </tr>\n",
              "    <tr>\n",
              "      <th>1720</th>\n",
              "      <td>1300</td>\n",
              "      <td>1252</td>\n",
              "      <td>0</td>\n",
              "      <td>1</td>\n",
              "      <td>0</td>\n",
              "      <td>0</td>\n",
              "      <td>0</td>\n",
              "      <td>0</td>\n",
              "      <td>0</td>\n",
              "      <td>0</td>\n",
              "      <td>0</td>\n",
              "      <td>1</td>\n",
              "      <td>0</td>\n",
              "      <td>0</td>\n",
              "      <td>0</td>\n",
              "      <td>0</td>\n",
              "      <td>0</td>\n",
              "      <td>0</td>\n",
              "      <td>0</td>\n",
              "      <td>1</td>\n",
              "      <td>0</td>\n",
              "      <td>0</td>\n",
              "      <td>1</td>\n",
              "      <td>0</td>\n",
              "      <td>0</td>\n",
              "      <td>0</td>\n",
              "      <td>1</td>\n",
              "      <td>0</td>\n",
              "      <td>0</td>\n",
              "      <td>0</td>\n",
              "      <td>0</td>\n",
              "      <td>0</td>\n",
              "      <td>0</td>\n",
              "      <td>0</td>\n",
              "      <td>0</td>\n",
              "      <td>0</td>\n",
              "      <td>0</td>\n",
              "      <td>0</td>\n",
              "      <td>0</td>\n",
              "      <td>0</td>\n",
              "      <td>0</td>\n",
              "      <td>0</td>\n",
              "      <td>0</td>\n",
              "      <td>0</td>\n",
              "      <td>0</td>\n",
              "      <td>0</td>\n",
              "      <td>0</td>\n",
              "      <td>0</td>\n",
              "      <td>0</td>\n",
              "      <td>0</td>\n",
              "      <td>0</td>\n",
              "      <td>0</td>\n",
              "      <td>0</td>\n",
              "      <td>0</td>\n",
              "      <td>1</td>\n",
              "      <td>0</td>\n",
              "      <td>0</td>\n",
              "      <td>0</td>\n",
              "      <td>0</td>\n",
              "      <td>0</td>\n",
              "      <td>0</td>\n",
              "      <td>0</td>\n",
              "      <td>0</td>\n",
              "    </tr>\n",
              "  </tbody>\n",
              "</table>\n",
              "</div>"
            ],
            "text/plain": [
              "      CRS_DEP_TIME  DEP_TIME  ...  DAY_OF_MONTH_31  Flight_Status\n",
              "1215          2120      2110  ...                0              0\n",
              "1476           700       659  ...                0              0\n",
              "1897           900       858  ...                0              0\n",
              "83            1300      1258  ...                0              0\n",
              "1172          1455      1509  ...                0              1\n",
              "1720          1300      1252  ...                0              0\n",
              "\n",
              "[6 rows x 63 columns]"
            ]
          },
          "metadata": {
            "tags": []
          },
          "execution_count": 82
        }
      ]
    },
    {
      "cell_type": "code",
      "metadata": {
        "id": "HGdqYCl2Ukju"
      },
      "source": [
        "## scaling the data \n",
        "scaler = StandardScaler()\n",
        "scaler.fit(X_train)\n",
        "X_train = scaler.transform(X_train)\n",
        "X_test = scaler.transform(X_test)"
      ],
      "execution_count": 83,
      "outputs": []
    },
    {
      "cell_type": "code",
      "metadata": {
        "colab": {
          "base_uri": "https://localhost:8080/"
        },
        "id": "OBAfu5kH9lSC",
        "outputId": "22e2aa98-fed5-4415-a9b7-e9cc7ea91f6d"
      },
      "source": [
        "## training the model\n",
        "classifier = LogisticRegression(penalty='l2', tol=1e-6, max_iter=10000)\n",
        "classifier.fit(X_train, y_train)"
      ],
      "execution_count": 84,
      "outputs": [
        {
          "output_type": "stream",
          "text": [
            "/usr/local/lib/python3.7/dist-packages/sklearn/utils/validation.py:760: DataConversionWarning: A column-vector y was passed when a 1d array was expected. Please change the shape of y to (n_samples, ), for example using ravel().\n",
            "  y = column_or_1d(y, warn=True)\n"
          ],
          "name": "stderr"
        },
        {
          "output_type": "execute_result",
          "data": {
            "text/plain": [
              "LogisticRegression(C=1.0, class_weight=None, dual=False, fit_intercept=True,\n",
              "                   intercept_scaling=1, l1_ratio=None, max_iter=10000,\n",
              "                   multi_class='auto', n_jobs=None, penalty='l2',\n",
              "                   random_state=None, solver='lbfgs', tol=1e-06, verbose=0,\n",
              "                   warm_start=False)"
            ]
          },
          "metadata": {
            "tags": []
          },
          "execution_count": 84
        }
      ]
    },
    {
      "cell_type": "code",
      "metadata": {
        "id": "x3Yjzbj7UvYv"
      },
      "source": [
        "## making predictions on test set\n",
        "y_pred = classifier.predict(X_test)"
      ],
      "execution_count": 85,
      "outputs": []
    },
    {
      "cell_type": "code",
      "metadata": {
        "colab": {
          "base_uri": "https://localhost:8080/",
          "height": 310
        },
        "id": "AeKe8ypwQ1LG",
        "outputId": "4010aa26-edc0-4ea1-d058-22ef0011fc84"
      },
      "source": [
        "## Model Performance\n",
        "class_labels = data[\"Flight_Status\"].unique()\n",
        "cm = confusion_matrix(y_test, y_pred, labels=class_labels)\n",
        "disp = ConfusionMatrixDisplay(confusion_matrix=cm, display_labels=class_labels)\n",
        "sns.reset_orig()\n",
        "disp.plot()"
      ],
      "execution_count": 86,
      "outputs": [
        {
          "output_type": "execute_result",
          "data": {
            "text/plain": [
              "<sklearn.metrics._plot.confusion_matrix.ConfusionMatrixDisplay at 0x7f3f242ca650>"
            ]
          },
          "metadata": {
            "tags": []
          },
          "execution_count": 86
        },
        {
          "output_type": "display_data",
          "data": {
            "image/png": "[encoded data removed]",
            "text/plain": [
              "<Figure size 432x288 with 2 Axes>"
            ]
          },
          "metadata": {
            "tags": [],
            "needs_background": "light"
          }
        }
      ]
    },
    {
      "cell_type": "code",
      "metadata": {
        "colab": {
          "base_uri": "https://localhost:8080/"
        },
        "id": "Mt93OGn5Q1Nw",
        "outputId": "14762ae1-46d1-4c4c-ea9d-20dc02b379fe"
      },
      "source": [
        "## classification_report\n",
        "print(classification_report(y_test, y_pred))"
      ],
      "execution_count": 88,
      "outputs": [
        {
          "output_type": "stream",
          "text": [
            "              precision    recall  f1-score   support\n",
            "\n",
            "           0       0.89      0.98      0.93       714\n",
            "           1       0.85      0.46      0.59       167\n",
            "\n",
            "    accuracy                           0.88       881\n",
            "   macro avg       0.87      0.72      0.76       881\n",
            "weighted avg       0.88      0.88      0.87       881\n",
            "\n"
          ],
          "name": "stdout"
        }
      ]
    },
    {
      "cell_type": "code",
      "metadata": {
        "colab": {
          "base_uri": "https://localhost:8080/"
        },
        "id": "WUS8D6CTRNb2",
        "outputId": "6767cfbc-57a7-4357-c16b-0f37c06fc8b3"
      },
      "source": [
        "print(\"Accuracy: \", accuracy_score(y_test,y_pred))"
      ],
      "execution_count": 89,
      "outputs": [
        {
          "output_type": "stream",
          "text": [
            "Accuracy:  0.8819523269012486\n"
          ],
          "name": "stdout"
        }
      ]
    },
    {
      "cell_type": "code",
      "metadata": {
        "colab": {
          "base_uri": "https://localhost:8080/"
        },
        "id": "Ac8sm17ghNci",
        "outputId": "ce7f6c31-5ba9-4485-fd5b-be860138dbd7"
      },
      "source": [
        "import statsmodels.api as sm\n",
        "logit_model=sm.Logit(y,X)\n",
        "result=logit_model.fit()\n",
        "print(result.summary2())"
      ],
      "execution_count": 90,
      "outputs": [
        {
          "output_type": "stream",
          "text": [
            "Warning: Maximum number of iterations has been exceeded.\n",
            "         Current function value: 0.322684\n",
            "         Iterations: 35\n",
            "                                    Results: Logit\n",
            "======================================================================================\n",
            "Model:                      Logit                  Pseudo R-squared:       0.345      \n",
            "Dependent Variable:         Flight_Status          AIC:                    1514.4569  \n",
            "Date:                       2021-05-11 15:42       BIC:                    1782.2003  \n",
            "No. Observations:           2201                   Log-Likelihood:         -710.23    \n",
            "Df Model:                   46                     LL-Null:                -1084.3    \n",
            "Df Residuals:               2154                   LLR p-value:            1.3790e-127\n",
            "Converged:                  0.0000                 Scale:                  1.0000     \n",
            "No. Iterations:             35.0000                                                   \n",
            "--------------------------------------------------------------------------------------\n",
            "                 Coef.      Std.Err.       z     P>|z|       [0.025         0.975]    \n",
            "--------------------------------------------------------------------------------------\n",
            "CRS_DEP_TIME     -0.0282         0.0021 -13.6262 0.0000         -0.0323        -0.0242\n",
            "DEP_TIME          0.0288         0.0021  13.9774 0.0000          0.0247         0.0328\n",
            "Weather          16.6487       836.4872   0.0199 0.9841      -1622.8362      1656.1336\n",
            "CARRIER_CO        0.4830            nan      nan    nan             nan            nan\n",
            "CARRIER_DH       -1.8741            nan      nan    nan             nan            nan\n",
            "CARRIER_DL       -2.4180            nan      nan    nan             nan            nan\n",
            "CARRIER_MQ       -1.0214            nan      nan    nan             nan            nan\n",
            "CARRIER_OH       -1.1138 130229975.1675  -0.0000 1.0000 -255246062.1496 255246059.9220\n",
            "CARRIER_RU       -0.5060            nan      nan    nan             nan            nan\n",
            "CARRIER_UA       -2.5522            nan      nan    nan             nan            nan\n",
            "CARRIER_US       -1.7641            nan      nan    nan             nan            nan\n",
            "DEST_EWR         -1.0095            nan      nan    nan             nan            nan\n",
            "DEST_JFK         -0.7931  14475230.7189  -0.0000 1.0000  -28370931.6700  28370930.0837\n",
            "DEST_LGA         -0.3065            nan      nan    nan             nan            nan\n",
            "DAY_WEEK_1        0.2664            nan      nan    nan             nan            nan\n",
            "DAY_WEEK_2        0.1407  20091467.0744   0.0000 1.0000  -39378551.7217  39378552.0031\n",
            "DAY_WEEK_3        0.1384            nan      nan    nan             nan            nan\n",
            "DAY_WEEK_4       -3.4159            nan      nan    nan             nan            nan\n",
            "DAY_WEEK_5        0.0246  17476695.9878   0.0000 1.0000  -34253694.6803  34253694.7295\n",
            "DAY_WEEK_6       -0.3898            nan      nan    nan             nan            nan\n",
            "DAY_WEEK_7        0.1594  10481102.4752   0.0000 1.0000  -20542583.2103  20542583.5291\n",
            "ORIGIN_BWI       -0.7028            nan      nan    nan             nan            nan\n",
            "ORIGIN_DCA       -0.2121   3729716.2784  -0.0000 1.0000   -7310109.7903   7310109.3661\n",
            "ORIGIN_IAD       -0.0595            nan      nan    nan             nan            nan\n",
            "DISTANCE_169      0.0985            nan      nan    nan             nan            nan\n",
            "DISTANCE_184     -1.8390  92513688.7882  -0.0000 1.0000 -181323499.9408 181323496.2627\n",
            "DISTANCE_199     -1.0599  16145880.5719  -0.0000 1.0000  -31645345.4796  31645343.3598\n",
            "DISTANCE_213      0.2004  15768496.4583   0.0000 1.0000  -30905684.9483  30905685.3491\n",
            "DISTANCE_214     -0.2362            nan      nan    nan             nan            nan\n",
            "DISTANCE_228     -0.3518            nan      nan    nan             nan            nan\n",
            "DISTANCE_229     -0.3859            nan      nan    nan             nan            nan\n",
            "DAY_OF_MONTH_1  -17.2458   9268563.3496  -0.0000 1.0000  -18166067.5995  18166033.1079\n",
            "DAY_OF_MONTH_2   -0.9387            nan      nan    nan             nan            nan\n",
            "DAY_OF_MONTH_3   -0.2290            nan      nan    nan             nan            nan\n",
            "DAY_OF_MONTH_4    0.0850  25401945.9102   0.0000 1.0000  -49786899.0362  49786899.2061\n",
            "DAY_OF_MONTH_5    0.3429   9315891.6014   0.0000 1.0000  -18258811.6798  18258812.3655\n",
            "DAY_OF_MONTH_6   -0.5928            nan      nan    nan             nan            nan\n",
            "DAY_OF_MONTH_7    0.0357            nan      nan    nan             nan            nan\n",
            "DAY_OF_MONTH_8    3.0002   9268555.6015   0.0000 1.0000  -18166032.1675  18166038.1679\n",
            "DAY_OF_MONTH_9   -0.1360            nan      nan    nan             nan            nan\n",
            "DAY_OF_MONTH_10   0.0750            nan      nan    nan             nan            nan\n",
            "DAY_OF_MONTH_11  -0.9669  25401945.9102  -0.0000 1.0000  -49786900.0881  49786898.1542\n",
            "DAY_OF_MONTH_12  -0.2607   9315891.6014  -0.0000 1.0000  -18258812.2834  18258811.7619\n",
            "DAY_OF_MONTH_13  -0.0600            nan      nan    nan             nan            nan\n",
            "DAY_OF_MONTH_14  -0.3155            nan      nan    nan             nan            nan\n",
            "DAY_OF_MONTH_15   4.1797   9268555.6015   0.0000 1.0000  -18166030.9880  18166039.3474\n",
            "DAY_OF_MONTH_16   0.7806            nan      nan    nan             nan            nan\n",
            "DAY_OF_MONTH_17   0.4945            nan      nan    nan             nan            nan\n",
            "DAY_OF_MONTH_18   1.2091  25401945.9102   0.0000 1.0000  -49786897.9120  49786900.3303\n",
            "DAY_OF_MONTH_19  -0.5564   9315891.6014  -0.0000 1.0000  -18258812.5791  18258811.4662\n",
            "DAY_OF_MONTH_20  -0.7594            nan      nan    nan             nan            nan\n",
            "DAY_OF_MONTH_21  -0.2260            nan      nan    nan             nan            nan\n",
            "DAY_OF_MONTH_22   3.1324   9268555.6015   0.0000 1.0000  -18166032.0353  18166038.3002\n",
            "DAY_OF_MONTH_23   0.0876            nan      nan    nan             nan            nan\n",
            "DAY_OF_MONTH_24   0.1612            nan      nan    nan             nan            nan\n",
            "DAY_OF_MONTH_25  -0.1649  25401945.9102  -0.0000 1.0000  -49786899.2860  49786898.9562\n",
            "DAY_OF_MONTH_26   0.7436   9315891.6014   0.0000 1.0000  -18258811.2790  18258812.7663\n",
            "DAY_OF_MONTH_27   1.5558            nan      nan    nan             nan            nan\n",
            "DAY_OF_MONTH_28   0.6471            nan      nan    nan             nan            nan\n",
            "DAY_OF_MONTH_29   3.5204   9268555.6015   0.0000 1.0000  -18166031.6474  18166038.6881\n",
            "DAY_OF_MONTH_30   0.2340            nan      nan    nan             nan            nan\n",
            "DAY_OF_MONTH_31  -0.8887            nan      nan    nan             nan            nan\n",
            "======================================================================================\n",
            "\n"
          ],
          "name": "stdout"
        },
        {
          "output_type": "stream",
          "text": [
            "/usr/local/lib/python3.7/dist-packages/statsmodels/base/model.py:512: ConvergenceWarning: Maximum Likelihood optimization failed to converge. Check mle_retvals\n",
            "  \"Check mle_retvals\", ConvergenceWarning)\n",
            "/usr/local/lib/python3.7/dist-packages/statsmodels/base/model.py:1286: RuntimeWarning: invalid value encountered in sqrt\n",
            "  bse_ = np.sqrt(np.diag(self.cov_params()))\n"
          ],
          "name": "stderr"
        }
      ]
    },
    {
      "cell_type": "code",
      "metadata": {
        "id": "2H8462Yv1mlD"
      },
      "source": [
        "data1 = data.drop([\"Flight_Status\"], axis = 1)"
      ],
      "execution_count": 91,
      "outputs": []
    },
    {
      "cell_type": "markdown",
      "metadata": {
        "id": "ec1JNSWFWUeM"
      },
      "source": [
        "Now we will be using RFE(Recursive Feature Elimination) to elminate few features to reduce the size and improve the accuracy of the model."
      ]
    },
    {
      "cell_type": "code",
      "metadata": {
        "colab": {
          "base_uri": "https://localhost:8080/"
        },
        "id": "ntRdyN4MHb7x",
        "outputId": "ccb44118-5356-47df-fb62-00b9b87c7bd3"
      },
      "source": [
        "## Recursive Feature Elimination\n",
        "## Creating new data set with remaining features\n",
        "X_col = data1.iloc[:, :63]\n",
        "log_odds = classifier.coef_[0]\n",
        "pd.DataFrame(log_odds, X_col.columns, columns=['coef']).sort_values(by='coef', ascending=False)\n",
        "\n",
        "odds = np.exp(classifier.coef_[0])\n",
        "pd.DataFrame(odds, X_col.columns, columns=['coef']).sort_values(by='coef', ascending=False)\n",
        "\n",
        "model = LogisticRegression(max_iter=1000)\n",
        "rfe = RFE(model,n_features_to_select = 55)\n",
        "\n",
        "fit = rfe.fit(X, np.ravel(y))\n",
        "\n",
        "a = X_col.columns\n",
        "column_names=[]\n",
        "for i in range(len(fit.ranking_)):\n",
        "    if fit.ranking_[i]==1:\n",
        "        column_names.append(a[i])\n",
        "\n",
        "print(column_names)"
      ],
      "execution_count": 92,
      "outputs": [
        {
          "output_type": "stream",
          "text": [
            "['Weather', 'CARRIER_CO', 'CARRIER_DH', 'CARRIER_DL', 'CARRIER_MQ', 'CARRIER_OH', 'CARRIER_RU', 'CARRIER_UA', 'CARRIER_US', 'DEST_EWR', 'DEST_JFK', 'DEST_LGA', 'DAY_WEEK_1', 'DAY_WEEK_2', 'DAY_WEEK_3', 'DAY_WEEK_4', 'DAY_WEEK_5', 'DAY_WEEK_6', 'ORIGIN_BWI', 'ORIGIN_DCA', 'ORIGIN_IAD', 'DISTANCE_169', 'DISTANCE_184', 'DISTANCE_199', 'DISTANCE_213', 'DISTANCE_214', 'DISTANCE_229', 'DAY_OF_MONTH_1', 'DAY_OF_MONTH_2', 'DAY_OF_MONTH_3', 'DAY_OF_MONTH_4', 'DAY_OF_MONTH_5', 'DAY_OF_MONTH_6', 'DAY_OF_MONTH_8', 'DAY_OF_MONTH_9', 'DAY_OF_MONTH_10', 'DAY_OF_MONTH_11', 'DAY_OF_MONTH_12', 'DAY_OF_MONTH_13', 'DAY_OF_MONTH_14', 'DAY_OF_MONTH_15', 'DAY_OF_MONTH_16', 'DAY_OF_MONTH_17', 'DAY_OF_MONTH_18', 'DAY_OF_MONTH_19', 'DAY_OF_MONTH_20', 'DAY_OF_MONTH_21', 'DAY_OF_MONTH_22', 'DAY_OF_MONTH_25', 'DAY_OF_MONTH_26', 'DAY_OF_MONTH_27', 'DAY_OF_MONTH_28', 'DAY_OF_MONTH_29', 'DAY_OF_MONTH_30', 'DAY_OF_MONTH_31']\n"
          ],
          "name": "stdout"
        }
      ]
    },
    {
      "cell_type": "code",
      "metadata": {
        "colab": {
          "base_uri": "https://localhost:8080/"
        },
        "id": "lRb6qP1r_V5I",
        "outputId": "22a58b3f-0ee5-4ea0-fa52-4dff26a2ed7c"
      },
      "source": [
        "## Splitting data set\n",
        "X1 = data[column_names].values\n",
        "Y1 = data[\"Flight_Status\"].values\n",
        "\n",
        "X_train1, X_test1, y_train1, y_test1 = train_test_split(X1, Y1, shuffle=True, random_state=1, test_size=0.40)\n",
        "\n",
        "print(\"Number of train samples: \", len(X_train1))\n",
        "print(\"Number of test samples: \", len(X_test1))"
      ],
      "execution_count": 93,
      "outputs": [
        {
          "output_type": "stream",
          "text": [
            "Number of train samples:  1320\n",
            "Number of test samples:  881\n"
          ],
          "name": "stdout"
        }
      ]
    },
    {
      "cell_type": "code",
      "metadata": {
        "id": "8G08_uW3A9RU"
      },
      "source": [
        "## scaling the data \n",
        "scaler1 = StandardScaler()\n",
        "scaler1.fit(X_train1)\n",
        "X_train1 = scaler1.transform(X_train1)\n",
        "X_test1 = scaler1.transform(X_test1)"
      ],
      "execution_count": 94,
      "outputs": []
    },
    {
      "cell_type": "code",
      "metadata": {
        "colab": {
          "base_uri": "https://localhost:8080/"
        },
        "id": "5GzM-VIc_V8H",
        "outputId": "f2dcd82e-77e9-4e7e-85c7-ff6080fce45a"
      },
      "source": [
        "## Trainig the model\n",
        "classifier1 = LogisticRegression(penalty='l2', tol=1e-6, max_iter=100)\n",
        "classifier1.fit(X_train1, y_train1)"
      ],
      "execution_count": 95,
      "outputs": [
        {
          "output_type": "execute_result",
          "data": {
            "text/plain": [
              "LogisticRegression(C=1.0, class_weight=None, dual=False, fit_intercept=True,\n",
              "                   intercept_scaling=1, l1_ratio=None, max_iter=100,\n",
              "                   multi_class='auto', n_jobs=None, penalty='l2',\n",
              "                   random_state=None, solver='lbfgs', tol=1e-06, verbose=0,\n",
              "                   warm_start=False)"
            ]
          },
          "metadata": {
            "tags": []
          },
          "execution_count": 95
        }
      ]
    },
    {
      "cell_type": "code",
      "metadata": {
        "id": "Vo1M1h4QAm64"
      },
      "source": [
        "## making predictions\n",
        "y_pred1 = classifier1.predict(X_test1)"
      ],
      "execution_count": 96,
      "outputs": []
    },
    {
      "cell_type": "code",
      "metadata": {
        "colab": {
          "base_uri": "https://localhost:8080/",
          "height": 304
        },
        "id": "MM6C5cZyBaBB",
        "outputId": "d8389417-53ae-4114-efc0-28d1950dad86"
      },
      "source": [
        "\n",
        "## Model Performance\n",
        "class_labels1 = data[\"Flight_Status\"].unique()\n",
        "cm1 = confusion_matrix(y_test1, y_pred1, labels=class_labels1)\n",
        "disp1 = ConfusionMatrixDisplay(confusion_matrix=cm1, display_labels=class_labels1)\n",
        "sns.reset_orig()\n",
        "disp1.plot()"
      ],
      "execution_count": 97,
      "outputs": [
        {
          "output_type": "execute_result",
          "data": {
            "text/plain": [
              "<sklearn.metrics._plot.confusion_matrix.ConfusionMatrixDisplay at 0x7f3f243fa550>"
            ]
          },
          "metadata": {
            "tags": []
          },
          "execution_count": 97
        },
        {
          "output_type": "display_data",
          "data": {
            "image/png": "[encoded data removed]",
            "text/plain": [
              "<Figure size 432x288 with 2 Axes>"
            ]
          },
          "metadata": {
            "tags": [],
            "needs_background": "light"
          }
        }
      ]
    },
    {
      "cell_type": "code",
      "metadata": {
        "colab": {
          "base_uri": "https://localhost:8080/"
        },
        "id": "Fj4Ywxt4Og1B",
        "outputId": "22de4e41-df9d-4565-c7a9-b65f512e9ba7"
      },
      "source": [
        "\n",
        "## classification_report\n",
        "print(classification_report(y_test1, y_pred1))"
      ],
      "execution_count": 98,
      "outputs": [
        {
          "output_type": "stream",
          "text": [
            "              precision    recall  f1-score   support\n",
            "\n",
            "           0       0.86      0.95      0.90       714\n",
            "           1       0.61      0.36      0.45       167\n",
            "\n",
            "    accuracy                           0.84       881\n",
            "   macro avg       0.74      0.65      0.68       881\n",
            "weighted avg       0.82      0.84      0.82       881\n",
            "\n"
          ],
          "name": "stdout"
        }
      ]
    },
    {
      "cell_type": "code",
      "metadata": {
        "colab": {
          "base_uri": "https://localhost:8080/"
        },
        "id": "omdoAekmO4FT",
        "outputId": "514e90b2-ee07-49fa-da05-a89501b600c5"
      },
      "source": [
        "print(\"Accuracy: \", accuracy_score(y_test1,y_pred1))"
      ],
      "execution_count": 99,
      "outputs": [
        {
          "output_type": "stream",
          "text": [
            "Accuracy:  0.8354143019296254\n"
          ],
          "name": "stdout"
        }
      ]
    }
  ]
}